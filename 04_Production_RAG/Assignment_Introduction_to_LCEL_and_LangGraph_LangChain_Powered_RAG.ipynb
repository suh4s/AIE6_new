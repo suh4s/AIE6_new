{
  "cells": [
    {
      "cell_type": "markdown",
      "metadata": {
        "id": "47eTBHYNP4g1"
      },
      "source": [
        "# Introduction to LCEL and LangGraph: LangChain Powered RAG\n",
        "\n",
        "In the following notebook we're going to focus on learning how to navigate and build useful applications using LangChain, specifically LCEL, and how to integrate different APIs together into a coherent RAG application!\n",
        "\n",
        "In the notebook, you'll complete the following Tasks:\n",
        "\n",
        "- 🤝 Breakout Room #1:\n",
        "  1. Install required libraries\n",
        "  2. Set Environment Variables  \n",
        "  3. Initialize a Simple Chain using LCEL\n",
        "  4. Implement Naive RAG using LCEL\n",
        "  5. Implement Simple RAG using LCEL\n",
        "\n",
        "- 🤝 Breakout Room #2:\n",
        "  1. Install LangGraph\n",
        "  2. Understanding States and Nodes\n",
        "  3. Building a Basic Graph\n",
        "  4. Implementing a Simple RAG Graph\n",
        "  5. Extending the Graph with Complex Flows\n",
        "\n",
        "Let's get started!\n",
        "\n"
      ]
    },
    {
      "cell_type": "markdown",
      "metadata": {
        "id": "2ayVXHXHRE_t"
      },
      "source": [
        "# 🤝 Breakout Room #1"
      ]
    },
    {
      "cell_type": "markdown",
      "metadata": {
        "id": "aVHd6POM0JFN"
      },
      "source": [
        "## Installing Required Libraries\n",
        "\n",
        "One of the [key features](https://blog.langchain.dev/langchain-v02-leap-to-stability/) of LangChain v0.2.0 is the compartmentalization of the various LangChain ecosystem packages and added stability.\n",
        "\n",
        "Instead of one all encompassing Python package - LangChain has a `core` package and a number of additional supplementary packages.\n",
        "\n",
        "We'll start by grabbing all of our LangChain related packages!\n",
        "\n",
        "> NOTE: DO NOT RUN THIS CELL IF YOU ARE RUNNING THIS NOTEBOOK LOCALLY"
      ]
    },
    {
      "cell_type": "code",
      "execution_count": null,
      "metadata": {
        "colab": {
          "base_uri": "https://localhost:8080/"
        },
        "id": "nCC2AR-Q0m0x",
        "outputId": "cbd49ab6-f2fb-420c-e64c-e656ad21524e"
      },
      "outputs": [],
      "source": [
        "#!pip install -qU langchain==0.3.15 langchain-core==0.3.31 langchain-community==0.3.15 langchain-openai==0.3.1 langchain-qdrant==0.2.0 qdrant-client==1.13.2 tiktoken pymupdf==1.25.2"
      ]
    },
    {
      "cell_type": "markdown",
      "metadata": {
        "id": "sl6wTp9C5qbY"
      },
      "source": [
        "## Set Environment Variables\n",
        "\n",
        "We'll be leveraging OpenAI's suite of APIs - so we'll set our `OPENAI_API_KEY` `env` variable here!"
      ]
    },
    {
      "cell_type": "code",
      "execution_count": 1,
      "metadata": {
        "colab": {
          "base_uri": "https://localhost:8080/"
        },
        "id": "7pKAfycq73wE",
        "outputId": "0b5702c2-028b-4bf4-ae8a-fffe243574a7"
      },
      "outputs": [],
      "source": [
        "import os\n",
        "import getpass\n",
        "\n",
        "os.environ[\"OPENAI_API_KEY\"] = getpass.getpass(\"OpenAI API Key:\")"
      ]
    },
    {
      "cell_type": "markdown",
      "metadata": {
        "id": "Q_xp54wIA56_"
      },
      "source": [
        "## Initialize a Simple Chain using LCEL\n",
        "\n",
        "The first thing we'll do is familiarize ourselves with LCEL and the specific ins and outs of how we can use it!"
      ]
    },
    {
      "cell_type": "markdown",
      "metadata": {
        "id": "SyGdhbS6SkD1"
      },
      "source": [
        "### LLM Orchestration Tool (LangChain)\n",
        "\n",
        "Let's dive right into [LangChain](https://www.langchain.com/)!\n",
        "\n",
        "The first thing we want to do is create an object that lets us access OpenAI's `gpt-4o` model."
      ]
    },
    {
      "cell_type": "code",
      "execution_count": 2,
      "metadata": {
        "id": "3Uj6SorxMj8e"
      },
      "outputs": [],
      "source": [
        "from langchain_openai import ChatOpenAI\n",
        "\n",
        "openai_chat_model = ChatOpenAI(model=\"gpt-4o-mini\")"
      ]
    },
    {
      "cell_type": "markdown",
      "metadata": {
        "id": "HsmiieEh_Ye-"
      },
      "source": [
        "#### ❓ Question #1:\n",
        "\n",
        "What other models could we use, and how would the above code change?\n",
        "\n",
        "> HINT: Check out [this page](https://platform.openai.com/docs/models) to find the answer!\n",
        "#### ✅Answer:\n",
        "\n",
        "Based on the current OpenAI models documentation, these are the models I can use in my code:\n",
        "\n",
        "*GPT-4 Models*:\n",
        "\n",
        "- gpt-4o (GPT-4o)\n",
        "- gpt-4o-mini\n",
        "- gpt-4 (GPT-4 Turbo)\n",
        "- gpt-4-turbo\n",
        "- gpt-4-vision-preview (with vision capabilities)\n",
        "- gpt-4-1106-preview\n",
        "- gpt-4-0613\n",
        "- gpt-4-32k (larger context window)\n",
        "- gpt-4-32k-0613\n",
        "\n",
        "*GPT-3.5 Models*:\n",
        "\n",
        "- gpt-3.5-turbo\n",
        "- gpt-3.5-turbo-1106\n",
        "- gpt-3.5-turbo-instruct\n",
        "- gpt-3.5-turbo-0613\n",
        "- gpt-3.5-turbo-16k (larger context window)\n",
        "- gpt-3.5-turbo-16k-0613\n",
        "\n",
        "*Embeddings Models*:\n",
        "\n",
        "- text-embedding-3-small\n",
        "- text-embedding-3-large\n",
        "- text-embedding-ada-002 (legacy)\n",
        "\n",
        "*Moderation Models*:\n",
        "- text-moderation-latest\n",
        "- text-moderation-stable\n",
        "\n",
        "*Image Models*:\n",
        "\n",
        "- dall-e-3\n",
        "- dall-e-2\n",
        "\n",
        "*Audio Models*:\n",
        "- whisper-1 (speech to text)\n",
        "- tts-1 (text to speech)\n",
        "- tts-1-hd (higher quality text to speech)"
      ]
    },
    {
      "cell_type": "markdown",
      "metadata": {
        "id": "9nU8SlHfH41T"
      },
      "source": [
        "### Prompt Template"
      ]
    },
    {
      "cell_type": "markdown",
      "metadata": {
        "id": "dcMKLZWBVYm7"
      },
      "source": [
        "Now, we'll set up a prompt template - more specifically a `ChatPromptTemplate`. This will let us build a prompt we can modify when we call our LLM!"
      ]
    },
    {
      "cell_type": "code",
      "execution_count": 3,
      "metadata": {
        "id": "Z770j4zPS3o5"
      },
      "outputs": [],
      "source": [
        "from langchain_core.prompts import ChatPromptTemplate\n",
        "\n",
        "system_template = \"You are a legendary and mythical Wizard. You speak in riddles and make obscure and pun-filled references to exotic cheeses.\"\n",
        "human_template = \"{content}\"\n",
        "\n",
        "chat_prompt = ChatPromptTemplate.from_messages([\n",
        "    (\"system\", system_template),\n",
        "    (\"human\", human_template)\n",
        "])"
      ]
    },
    {
      "cell_type": "markdown",
      "metadata": {
        "id": "eGku_c2VVyd_"
      },
      "source": [
        "### Our First Chain\n",
        "\n",
        "Now we can set up our first chain!\n",
        "\n",
        "A chain is simply two components that feed directly into eachother in a sequential fashion!\n",
        "\n",
        "You'll notice that we're using the pipe operator `|` to connect our `chat_prompt` to our `llm`.\n",
        "\n",
        "This is a simplified method of creating chains and it leverages the LangChain Expression Language, or LCEL.\n",
        "\n",
        "You can read more about it [here](https://python.langchain.com/v0.2/docs/concepts/#langchain-expression-language-lcel), but there a few features we should be aware of out of the box (taken directly from LangChain's documentation linked above):\n",
        "\n",
        "- **Async, Batch, and Streaming Support** Any chain constructed this way will automatically have full sync, async, batch, and streaming support. This makes it easy to prototype a chain in a Jupyter notebook using the sync interface, and then expose it as an async streaming interface.\n",
        "\n",
        "- **Fallbacks** The non-determinism of LLMs makes it important to be able to handle errors gracefully. With LCEL you can easily attach fallbacks to any chain.\n",
        "\n",
        "- **Parallelism** Since LLM applications involve (sometimes long) API calls, it often becomes important to run things in parallel. With LCEL syntax, any components that can be run in parallel automatically are.\n",
        "\n",
        "In the following code cell we have two components:\n",
        "\n",
        "- `chat_prompt`, which is a formattable `ChatPromptTemplate` that contains a system message and a human message.\n",
        "- `openai_chat_model`, which is a LangChain Runnable wrapped OpenAI client.\n",
        "\n",
        "We'd like to be able to pass our own `content` (as found in our `human_template`) and then have the resulting message pair sent to our model and responded to!"
      ]
    },
    {
      "cell_type": "code",
      "execution_count": 4,
      "metadata": {
        "id": "RcJyqOiwVt04"
      },
      "outputs": [],
      "source": [
        "chain = chat_prompt | openai_chat_model"
      ]
    },
    {
      "cell_type": "markdown",
      "metadata": {
        "id": "QV_kHCjlL_01"
      },
      "source": [
        "Notice the pattern here:\n",
        "\n",
        "We invoke our chain with the `dict` `{\"content\" : \"Hello world!\"}`.\n",
        "\n",
        "It enters our chain:\n",
        "\n",
        "`{\"content\" : \"Hello world!\"}` -> `invoke()` -> `chat_prompt`\n",
        "\n",
        "Our `chat_prompt` returns a `PromptValue`, which is the formatted prompt. We then \"pipe\" the output of our `chat_prompt` into our `llm`.\n",
        "\n",
        "`PromptValue` -> `|` -> `llm`\n",
        "\n",
        "Our `llm` then takes the list of messages and provides an output which is return as a `str`!\n",
        "\n",
        "\n",
        "\n",
        "\n",
        "\n"
      ]
    },
    {
      "cell_type": "code",
      "execution_count": 5,
      "metadata": {
        "colab": {
          "base_uri": "https://localhost:8080/"
        },
        "id": "0cqr2QuMtIjn",
        "outputId": "acc3f8bc-106a-4fd6-9b4e-6caddc0a94ca"
      },
      "outputs": [
        {
          "name": "stdout",
          "output_type": "stream",
          "text": [
            "content='Ah, greetings, wanderer of the vast digital expanse! The world, like a fine Brie, is both soft and complex, awaiting your touch. But tell me, do you come seeking wisdom, or perhaps a slice of humor from the edifying wheel of Curds and Whey? For every query, like a well-aged cheddar, has layers waiting to be unwrapped! 🧙\\u200d♂️✨' additional_kwargs={'refusal': None} response_metadata={'token_usage': {'completion_tokens': 85, 'prompt_tokens': 38, 'total_tokens': 123, 'completion_tokens_details': {'accepted_prediction_tokens': 0, 'audio_tokens': 0, 'reasoning_tokens': 0, 'rejected_prediction_tokens': 0}, 'prompt_tokens_details': {'audio_tokens': 0, 'cached_tokens': 0}}, 'model_name': 'gpt-4o-mini-2024-07-18', 'system_fingerprint': 'fp_44added55e', 'finish_reason': 'stop', 'logprobs': None} id='run-205d95c6-62f3-4a7d-92b1-0ea5bd12a26d-0' usage_metadata={'input_tokens': 38, 'output_tokens': 85, 'total_tokens': 123, 'input_token_details': {'audio': 0, 'cache_read': 0}, 'output_token_details': {'audio': 0, 'reasoning': 0}}\n"
          ]
        }
      ],
      "source": [
        "print(chain.invoke({\"content\": \"Hello world!\"}))"
      ]
    },
    {
      "cell_type": "markdown",
      "metadata": {
        "id": "2znL48ECNteM"
      },
      "source": [
        "Let's try it out with a different prompt!"
      ]
    },
    {
      "cell_type": "code",
      "execution_count": 6,
      "metadata": {
        "colab": {
          "base_uri": "https://localhost:8080/"
        },
        "id": "mjiTNeYXUCAB",
        "outputId": "b5d2bb5b-487f-4a3e-8673-5f31987a56f5"
      },
      "outputs": [
        {
          "data": {
            "text/plain": [
              "AIMessage(content='Ah, seeker of the code and conjurer of the syntax, let us scry into the creamy depths of knowledge, much like a fine Roquefort resting amidst the crags of a damp cavern, yearning to be crumbled into perfection!\\n\\n1. **Aged Wisdom**: Like a fine cheddar, the essence of mastery lies in patience. Sharpen thy skills by immersing thyself in the tomes of documentation, for within the pages lies the curdling knowledge of those who tread the path before thee.\\n\\n2. **Experimenting with the Curds**: Venture forth, and let the taste of experimentation tantalize thy tongue! Craft small projects, akin to shaping delicate Brie, molding snippets of code that bring you joy. The more you experiment, the more delightful your clever creations shall be!\\n\\n3. **Fellowship of the Cheesemongers**: Seek out the guilds of Coders and Programmers, for community is like a well-aged Gouda—rich and complex. Ask questions, share ideas, and contribute to the collective knowledge, for many wheels of cheese are better than one!\\n\\n4. **Debugging Delicacies**: When thou encounterest the foul stench of bugs, fear not! Embrace the challenge like a defensive Camembert amidst a storm. Use debuggers and tools to slice through the rind of confusion and reveal the gooey center of truth.\\n\\n5. **Practice the Art of Whimsy**: Turn coding into a game, much like pairing wine with cheese! Write playful scripts, quest on platforms like LeetCode or HackerRank, and let the elegance of solutions unfold before you, intoxicating like the finest fondue.\\n\\n6. **Read the Label**: Just as one reads the label to understand the notes of a pungent Limburger, read the code of others. GitHub and code reviews are the windows into worlds unseen—learn the techniques and styles that elevate a dish from mundane to gourmet.\\n\\nThus, dear apprentice, embrace the journey as one would savor a delightful platter of assorted cheeses—each taste a lesson, each bite a revelation. Code boldly, and may your Python programming flourish as richly as the most exquisite cheese wheel! 🧙\\u200d♂️🧀', additional_kwargs={'refusal': None}, response_metadata={'token_usage': {'completion_tokens': 459, 'prompt_tokens': 50, 'total_tokens': 509, 'completion_tokens_details': {'accepted_prediction_tokens': 0, 'audio_tokens': 0, 'reasoning_tokens': 0, 'rejected_prediction_tokens': 0}, 'prompt_tokens_details': {'audio_tokens': 0, 'cached_tokens': 0}}, 'model_name': 'gpt-4o-mini-2024-07-18', 'system_fingerprint': 'fp_44added55e', 'finish_reason': 'stop', 'logprobs': None}, id='run-0aeb9c48-3d16-4304-ba93-fc2cfb38285e-0', usage_metadata={'input_tokens': 50, 'output_tokens': 459, 'total_tokens': 509, 'input_token_details': {'audio': 0, 'cache_read': 0}, 'output_token_details': {'audio': 0, 'reasoning': 0}})"
            ]
          },
          "execution_count": 6,
          "metadata": {},
          "output_type": "execute_result"
        }
      ],
      "source": [
        "chain.invoke({\"content\" : \"Could I please have some advice on how to become a better Python Programmer?\"})"
      ]
    },
    {
      "cell_type": "markdown",
      "metadata": {
        "id": "THcMz8YAWsjP"
      },
      "source": [
        "Notice how we specifically referenced our `content` format option!\n",
        "\n",
        "Now that we have the basics set up - let's see what we mean by \"Retrieval Augmented\" Generation."
      ]
    },
    {
      "cell_type": "markdown",
      "metadata": {
        "id": "P7o8aXbhRAPe"
      },
      "source": [
        "## Naive RAG - Manually adding context through the Prompt Template\n",
        "\n",
        "Let's look at how our model performs at a simple task - defining what LangChain is!\n",
        "\n",
        "We'll redo some of our previous work to change the `system_template` to be less...verbose."
      ]
    },
    {
      "cell_type": "code",
      "execution_count": 7,
      "metadata": {
        "colab": {
          "base_uri": "https://localhost:8080/"
        },
        "id": "Qu_Uox_pPKaf",
        "outputId": "57ca2111-c0c6-47c3-968d-978828901ec3"
      },
      "outputs": [
        {
          "name": "stdout",
          "output_type": "stream",
          "text": [
            "content='As of my last update in October 2023, **LangGraph** refers to a framework or concept that integrates language processing with graph structures, often used in artificial intelligence and natural language processing contexts. This may involve representing linguistic data as graphs to facilitate better understanding, analysis, and generation of language through various models, especially in tasks such as document summarization, knowledge representation, and semantic understanding.\\n\\nThe specifics could vary depending on the context in which LangGraph is mentioned, such as a research paper, software library, or application. If there have been recent developments or specific applications of LangGraph beyond my last update, I would recommend checking the latest resources or research publications for the most accurate and detailed information. If you have a particular context or resource in mind, I can try to help further!' additional_kwargs={'refusal': None} response_metadata={'token_usage': {'completion_tokens': 160, 'prompt_tokens': 22, 'total_tokens': 182, 'completion_tokens_details': {'accepted_prediction_tokens': 0, 'audio_tokens': 0, 'reasoning_tokens': 0, 'rejected_prediction_tokens': 0}, 'prompt_tokens_details': {'audio_tokens': 0, 'cached_tokens': 0}}, 'model_name': 'gpt-4o-mini-2024-07-18', 'system_fingerprint': 'fp_80cf447eee', 'finish_reason': 'stop', 'logprobs': None} id='run-5a0d6ce6-c4cc-4205-9bad-e664f0511415-0' usage_metadata={'input_tokens': 22, 'output_tokens': 160, 'total_tokens': 182, 'input_token_details': {'audio': 0, 'cache_read': 0}, 'output_token_details': {'audio': 0, 'reasoning': 0}}\n"
          ]
        }
      ],
      "source": [
        "system_template = \"You are a helpful assistant.\"\n",
        "human_template = \"{content}\"\n",
        "\n",
        "chat_prompt = ChatPromptTemplate.from_messages([\n",
        "    (\"system\", system_template),\n",
        "    (\"human\", human_template)\n",
        "])\n",
        "\n",
        "chat_chain = chat_prompt | openai_chat_model ### LCEL Chain!\n",
        "\n",
        "print(chat_chain.invoke({\"content\" : \"Please define LangGraph.\"}))"
      ]
    },
    {
      "cell_type": "markdown",
      "metadata": {
        "id": "18KXqGI4XbMb"
      },
      "source": [
        "Well, that's not very good - is it!\n",
        "\n",
        "The issue at play here is that our model was not trained on the idea of \"LangChain\", and so it's left with nothing but a guess - definitely not what we want the answer to be!\n",
        "\n",
        "Let's ask another simple LangChain question!"
      ]
    },
    {
      "cell_type": "code",
      "execution_count": 8,
      "metadata": {
        "colab": {
          "base_uri": "https://localhost:8080/"
        },
        "id": "pRG5LwYoXnsr",
        "outputId": "11185027-a453-43d9-895d-19c654524081"
      },
      "outputs": [
        {
          "name": "stdout",
          "output_type": "stream",
          "text": [
            "content='LangChain Expression Language (LECL) is a component of the LangChain framework designed to facilitate the construction and evaluation of complex expressions involving data and logic in a way that is both flexible and easy to use. LangChain is a framework primarily focused on developing applications that leverage large language models (LLMs) and other AI capabilities.\\n\\nLECL allows users to compose queries and expressions that can manipulate and extract data, making it easier to interact with various data sources, APIs, or internal logic. It is particularly useful in scenarios where dynamic evaluation of expressions is needed, such as in data processing tasks, chatbot interactions, or integrating various AI functionalities.\\n\\nKey features of LECL include:\\n\\n1. **Syntax**: LECL has a straightforward syntax that lets users define variables, operators, and functions to construct their expressions.\\n\\n2. **Flexibility**: It allows users to build complex expressions by combining simpler ones, offering a high degree of configurability.\\n\\n3. **Integration**: LECL is designed to work well within the LangChain ecosystem, making it easier to build applications that require data manipulation alongside natural language processing.\\n\\n4. **Dynamic Evaluation**: It supports the dynamic evaluation of expressions based on the context, enabling personalized or context-aware responses in applications.\\n\\nBy providing a dedicated expression language, LangChain enables developers to create more sophisticated interactions with language models, enhancing the capabilities of applications built using the framework.' additional_kwargs={'refusal': None} response_metadata={'token_usage': {'completion_tokens': 282, 'prompt_tokens': 27, 'total_tokens': 309, 'completion_tokens_details': {'accepted_prediction_tokens': 0, 'audio_tokens': 0, 'reasoning_tokens': 0, 'rejected_prediction_tokens': 0}, 'prompt_tokens_details': {'audio_tokens': 0, 'cached_tokens': 0}}, 'model_name': 'gpt-4o-mini-2024-07-18', 'system_fingerprint': 'fp_80cf447eee', 'finish_reason': 'stop', 'logprobs': None} id='run-8bfa10fd-9672-4a29-8a04-0fa3a57fb133-0' usage_metadata={'input_tokens': 27, 'output_tokens': 282, 'total_tokens': 309, 'input_token_details': {'audio': 0, 'cache_read': 0}, 'output_token_details': {'audio': 0, 'reasoning': 0}}\n"
          ]
        }
      ],
      "source": [
        "print(chat_chain.invoke({\"content\" : \"What is LangChain Expression Language (LECL)?\"}))"
      ]
    },
    {
      "cell_type": "markdown",
      "metadata": {
        "id": "63pr0fgYXxC3"
      },
      "source": [
        "While it provides a confident response, that response is entirely ficticious! Not a great look, OpenAI!\n",
        "\n",
        "However, let's see what happens when we rework our prompts - and we add the content from the docs to our prompt as context."
      ]
    },
    {
      "cell_type": "code",
      "execution_count": 9,
      "metadata": {
        "colab": {
          "base_uri": "https://localhost:8080/"
        },
        "id": "Fgr25HjgYHwh",
        "outputId": "40e5e551-345e-4c43-c47b-2269d51a0cdd"
      },
      "outputs": [
        {
          "name": "stdout",
          "output_type": "stream",
          "text": [
            "content='LangChain Expression Language (LCEL) is a declarative way to compose chains in a way that allows for easy integration of features such as asynchronous processing, batching, streaming support, and error handling with fallbacks. It facilitates parallel execution of components and provides seamless integration with LangSmith for tracing, making it easier to understand and debug complex chains.' additional_kwargs={'refusal': None} response_metadata={'token_usage': {'completion_tokens': 70, 'prompt_tokens': 282, 'total_tokens': 352, 'completion_tokens_details': {'accepted_prediction_tokens': 0, 'audio_tokens': 0, 'reasoning_tokens': 0, 'rejected_prediction_tokens': 0}, 'prompt_tokens_details': {'audio_tokens': 0, 'cached_tokens': 0}}, 'model_name': 'gpt-4o-mini-2024-07-18', 'system_fingerprint': 'fp_44added55e', 'finish_reason': 'stop', 'logprobs': None} id='run-7fef09e4-15a8-4c9f-b1ac-ce2470125293-0' usage_metadata={'input_tokens': 282, 'output_tokens': 70, 'total_tokens': 352, 'input_token_details': {'audio': 0, 'cache_read': 0}, 'output_token_details': {'audio': 0, 'reasoning': 0}}\n"
          ]
        }
      ],
      "source": [
        "HUMAN_TEMPLATE = \"\"\"\n",
        "#CONTEXT:\n",
        "{context}\n",
        "\n",
        "QUERY:\n",
        "{query}\n",
        "\n",
        "Use the provide context to answer the provided user query. Only use the provided context to answer the query. If you do not know the answer, or it's not contained in the provided context response with \"I don't know\"\n",
        "\"\"\"\n",
        "\n",
        "CONTEXT = \"\"\"\n",
        "LangChain Expression Language or LCEL is a declarative way to easily compose chains together. There are several benefits to writing chains in this manner (as opposed to writing normal code):\n",
        "\n",
        "Async, Batch, and Streaming Support Any chain constructed this way will automatically have full sync, async, batch, and streaming support. This makes it easy to prototype a chain in a Jupyter notebook using the sync interface, and then expose it as an async streaming interface.\n",
        "\n",
        "Fallbacks The non-determinism of LLMs makes it important to be able to handle errors gracefully. With LCEL you can easily attach fallbacks to any chain.\n",
        "\n",
        "Parallelism Since LLM applications involve (sometimes long) API calls, it often becomes important to run things in parallel. With LCEL syntax, any components that can be run in parallel automatically are.\n",
        "\n",
        "Seamless LangSmith Tracing Integration As your chains get more and more complex, it becomes increasingly important to understand what exactly is happening at every step. With LCEL, all steps are automatically logged to LangSmith for maximal observability and debuggability.\n",
        "\"\"\"\n",
        "\n",
        "chat_prompt = ChatPromptTemplate.from_messages([\n",
        "    (\"human\", HUMAN_TEMPLATE)\n",
        "])\n",
        "\n",
        "chat_chain = chat_prompt | openai_chat_model\n",
        "\n",
        "print(chat_chain.invoke({\"query\" : \"What is LangChain Expression Language?\", \"context\" : CONTEXT}))"
      ]
    },
    {
      "cell_type": "markdown",
      "metadata": {
        "id": "ppQdtCedY7C4"
      },
      "source": [
        "You'll notice that the response is much better this time. Not only does it answer the question well - but there's no trace of confabulation (hallucination) at all!\n",
        "\n",
        "> NOTE: While RAG is an effective strategy to *help* ground LLMs, it is not nearly 100% effective. You will still need to ensure your responses are factual through some other processes\n",
        "\n",
        "That, in essence, is the idea of RAG. We provide the model with context to answer our queries - and rely on it to translate the potentially lengthy and difficult to parse context into a natural language answer!\n",
        "\n",
        "However, manually providing context is not scalable - and doesn't really offer any benefit.\n",
        "\n",
        "Enter: Retrieval Pipelines."
      ]
    },
    {
      "cell_type": "markdown",
      "metadata": {
        "id": "DFmdARsVBJUq"
      },
      "source": [
        "## Implement Naive RAG using LCEL\n",
        "\n",
        "Now we can make a naive RAG application that will help us bridge the gap between our Pythonic implementation and a fully LangChain powered solution!"
      ]
    },
    {
      "cell_type": "markdown",
      "metadata": {
        "id": "n4AozVoEZveK"
      },
      "source": [
        "## Putting the R in RAG: Retrieval 101\n",
        "\n",
        "In order to make our RAG system useful, we need a way to provide context that is most likely to answer our user's query to the LLM as additional context.\n",
        "\n",
        "Let's tackle an immediate problem first: The Context Window.\n",
        "\n",
        "All (most) LLMs have a limited context window which is typically measured in tokens. This window is an upper bound of how much stuff we can stuff in the model's input at a time.\n",
        "\n",
        "Let's say we want to work off of a relatively large piece of source data - like the Ultimate Hitchhiker's Guide to the Galaxy. All 898 pages of it!\n",
        "\n",
        "> NOTE: It is recommended you do not run the following cells, they are purely for demonstrative purposes."
      ]
    },
    {
      "cell_type": "code",
      "execution_count": 10,
      "metadata": {
        "id": "PbXBxffibeyp"
      },
      "outputs": [],
      "source": [
        "context = \"\"\"\n",
        "EVERY HITCHHIKER'S GUIDE BOOK\n",
        "\"\"\""
      ]
    },
    {
      "cell_type": "markdown",
      "metadata": {
        "id": "EZvgFuaXcHFT"
      },
      "source": [
        "We can leverage our tokenizer to count the number of tokens for us!"
      ]
    },
    {
      "cell_type": "code",
      "execution_count": 11,
      "metadata": {
        "id": "HaKPOdSjbifn"
      },
      "outputs": [],
      "source": [
        "import tiktoken\n",
        "\n",
        "enc = tiktoken.encoding_for_model(\"gpt-4o\")"
      ]
    },
    {
      "cell_type": "code",
      "execution_count": 12,
      "metadata": {
        "colab": {
          "base_uri": "https://localhost:8080/"
        },
        "id": "NtDiSMxpE4Xi",
        "outputId": "886fd517-9128-45ca-9fbd-5152ae7f146b"
      },
      "outputs": [
        {
          "data": {
            "text/plain": [
              "12"
            ]
          },
          "execution_count": 12,
          "metadata": {},
          "output_type": "execute_result"
        }
      ],
      "source": [
        "len(enc.encode(context))"
      ]
    },
    {
      "cell_type": "markdown",
      "metadata": {
        "id": "5oUuZpAicLdm"
      },
      "source": [
        "The full set comes in at a whopping *636,144* tokens.\n",
        "\n",
        "So, we have too much context. What can we do?\n",
        "\n",
        "Well, the first thing that might enter your mind is: \"Use a model with more context window\", and we could definitely do that! However, even `gpt-4-128k` wouldn't be able to fit that whole text in the context window at once.\n",
        "\n",
        "So, we can try splitting our document up into little pieces - that way, we can avoid providing too much context.\n",
        "\n",
        "We have another problem now.\n",
        "\n",
        "If we split our document up into little pieces, and we can't put all of them in the prompt. How do we decide which to include in the prompt?!\n",
        "\n",
        "> NOTE: Content splitting/chunking strategies are an active area of research and iterative developement. There is no \"one size fits all\" approach to chunking/splitting at this moment. Use your best judgement to determine chunking strategies!\n",
        "\n",
        "In order to conceptualize the following processes - let's create a toy context set!"
      ]
    },
    {
      "cell_type": "markdown",
      "metadata": {
        "id": "UPCiOPwUfbqn"
      },
      "source": [
        "### TextSplitting aka Chunking\n",
        "\n",
        "We'll use the `RecursiveCharacterTextSplitter` to create our toy example.\n",
        "\n",
        "It will split based on the following rules:\n",
        "\n",
        "- Each chunk has a maximum size of 100 tokens\n",
        "- It will try and split first on the `\\n\\n` character, then on the `\\n`, then on the `<SPACE>` character, and finally it will split on individual tokens.\n",
        "\n",
        "Let's implement it and see the results!"
      ]
    },
    {
      "cell_type": "code",
      "execution_count": 13,
      "metadata": {
        "id": "nLW9AfDKfVHn"
      },
      "outputs": [],
      "source": [
        "import tiktoken\n",
        "from langchain.text_splitter import RecursiveCharacterTextSplitter\n",
        "\n",
        "def tiktoken_len(text):\n",
        "    tokens = tiktoken.encoding_for_model(\"gpt-4o-mini\").encode(\n",
        "        text,\n",
        "    )\n",
        "    return len(tokens)\n",
        "\n",
        "text_splitter = RecursiveCharacterTextSplitter(\n",
        "    chunk_size = 100,\n",
        "    chunk_overlap = 0,\n",
        "    length_function = tiktoken_len,\n",
        ")"
      ]
    },
    {
      "cell_type": "code",
      "execution_count": 14,
      "metadata": {
        "id": "nPYPBe2ngT9N"
      },
      "outputs": [],
      "source": [
        "chunks = text_splitter.split_text(CONTEXT)"
      ]
    },
    {
      "cell_type": "code",
      "execution_count": 15,
      "metadata": {
        "colab": {
          "base_uri": "https://localhost:8080/"
        },
        "id": "n_RGVlTihaQX",
        "outputId": "7ab8ae25-3b7f-4961-8d4d-9703580927d4"
      },
      "outputs": [
        {
          "data": {
            "text/plain": [
              "3"
            ]
          },
          "execution_count": 15,
          "metadata": {},
          "output_type": "execute_result"
        }
      ],
      "source": [
        "len(chunks)"
      ]
    },
    {
      "cell_type": "code",
      "execution_count": 16,
      "metadata": {
        "colab": {
          "base_uri": "https://localhost:8080/"
        },
        "id": "rTYny2xchS_Z",
        "outputId": "bbce26a0-5400-4ea7-bf02-3260de30137f"
      },
      "outputs": [
        {
          "name": "stdout",
          "output_type": "stream",
          "text": [
            "LangChain Expression Language or LCEL is a declarative way to easily compose chains together. There are several benefits to writing chains in this manner (as opposed to writing normal code):\n",
            "\n",
            "Async, Batch, and Streaming Support Any chain constructed this way will automatically have full sync, async, batch, and streaming support. This makes it easy to prototype a chain in a Jupyter notebook using the sync interface, and then expose it as an async streaming interface.\n",
            "----\n",
            "Fallbacks The non-determinism of LLMs makes it important to be able to handle errors gracefully. With LCEL you can easily attach fallbacks to any chain.\n",
            "\n",
            "Parallelism Since LLM applications involve (sometimes long) API calls, it often becomes important to run things in parallel. With LCEL syntax, any components that can be run in parallel automatically are.\n",
            "----\n",
            "Seamless LangSmith Tracing Integration As your chains get more and more complex, it becomes increasingly important to understand what exactly is happening at every step. With LCEL, all steps are automatically logged to LangSmith for maximal observability and debuggability.\n",
            "----\n"
          ]
        }
      ],
      "source": [
        "for chunk in chunks:\n",
        "  print(chunk)\n",
        "  print(\"----\")"
      ]
    },
    {
      "cell_type": "markdown",
      "metadata": {
        "id": "98hOgu5Yhefv"
      },
      "source": [
        "As is shown in our result, we've split each section into 100 token chunks - cleanly separated by `\\n\\n` characters!"
      ]
    },
    {
      "cell_type": "markdown",
      "metadata": {
        "id": "3PTiJ2utMpqq"
      },
      "source": [
        "####🏗️ Activity #1:\n",
        "\n",
        "While there's nothing specifically wrong with the chunking method used above - it is a naive approach that is not sensitive to specific data formats.\n",
        "\n",
        "Brainstorm some ideas that would split large single documents into smaller documents.\n",
        "\n",
        "1. `YOUR IDEA HERE`\n",
        "2. `YOUR IDEA HERE`\n",
        "3. `YOUR IDEA HERE`"
      ]
    },
    {
      "cell_type": "markdown",
      "metadata": {
        "id": "rj18Rjafhp7d"
      },
      "source": [
        "## Embeddings and Dense Vector Search\n",
        "\n",
        "Now that we have our individual chunks, we need a system to correctly select the relevant pieces of information to answer our query.\n",
        "\n",
        "This sounds like a perfect job for embeddings!\n",
        "\n",
        "We'll be using OpenAI's `text-embedding-3` model as our embedding model today!\n",
        "\n",
        "Let's load it up through LangChain."
      ]
    },
    {
      "cell_type": "code",
      "execution_count": 17,
      "metadata": {
        "id": "quNjOLWspOVN"
      },
      "outputs": [],
      "source": [
        "from langchain_openai.embeddings import OpenAIEmbeddings\n",
        "\n",
        "embedding_model = OpenAIEmbeddings(model=\"text-embedding-3-small\")"
      ]
    },
    {
      "cell_type": "markdown",
      "metadata": {
        "id": "dsGZ92hm9IeX"
      },
      "source": [
        "#### ❓ Question #2:\n",
        "\n",
        "What is the embedding dimension, given that we're using `text-embedding-3-small`?\n",
        "\n",
        "##### ✅Answer: 1536\n",
        "\n",
        "\n",
        "You will need to fill the next cell out correctly with your embedding dimension for the rest of the notebook to run.\n",
        "\n",
        "> HINT: Check out the [docs](https://platform.openai.com/docs/guides/embeddings) to help you answer this question."
      ]
    },
    {
      "cell_type": "code",
      "execution_count": 18,
      "metadata": {
        "id": "uQu1rCHw-YGF"
      },
      "outputs": [],
      "source": [
        "embedding_dim =  1536# YOUR ANSWER HERE"
      ]
    },
    {
      "cell_type": "markdown",
      "metadata": {
        "id": "ByK-zb0FsnqR"
      },
      "source": [
        "### Using A Vector Database - Intoduction to Qdrant\n",
        "\n",
        "Up to this point, we've been using a dictionary to hold our embeddings - typically, we'll want to use a more robust strategy.\n",
        "\n",
        "In this bootcamp - we'll be focusing on leveraging [Qdrant's vector database](https://qdrant.tech/qdrant-vector-database/).\n",
        "\n",
        "Let's take a look at how we set-up Qdrant!\n",
        "\n",
        "> NOTE: We'll be spending a lot of time learning about Qdrant throughout the remainder of our time together - but for an initial primer, please check out [this resource](https://qdrant.tech/articles/what-is-a-vector-database/)\n",
        "\n",
        "We are going to be using an \"in-memory\" Qdrant client, which means that our vectors will be held in our system's memory (RAM) - this is useful for prototyping and developement at smaller scales - but would need to be modified when moving to production. Luckily for us, this modification is trivial!\n",
        "\n",
        "> NOTE: While LangChain uses the terminology \"VectorStore\" (also known as a Vector Library), Qdrant is a \"Vector Database\" - more info. on that [here](https://weaviate.io/blog/vector-library-vs-vector-database)."
      ]
    },
    {
      "cell_type": "code",
      "execution_count": 19,
      "metadata": {
        "id": "EqSFeTNVhHRH"
      },
      "outputs": [],
      "source": [
        "from langchain_qdrant import QdrantVectorStore\n",
        "from qdrant_client import QdrantClient\n",
        "from qdrant_client.http.models import Distance, VectorParams\n",
        "\n",
        "client = QdrantClient(\":memory:\")"
      ]
    },
    {
      "cell_type": "markdown",
      "metadata": {
        "id": "Ax_Oz0P0mz8i"
      },
      "source": [
        "Next, we need to create a collection - a collection is a specific...collection of vectors within the Qdrant client.\n",
        "\n",
        "These are useful as they allow us to create multiple different \"warehouses\" in a single client, which can be leveraged for personalization and more!\n",
        "\n",
        "Also notice that we define what our vector shapes are (embedding dim) as well as our desired distance metric."
      ]
    },
    {
      "cell_type": "code",
      "execution_count": 20,
      "metadata": {
        "colab": {
          "base_uri": "https://localhost:8080/"
        },
        "id": "urH-37OYh6Ca",
        "outputId": "f1866617-a63f-4eac-d7af-49f1b9ccebb8"
      },
      "outputs": [
        {
          "data": {
            "text/plain": [
              "True"
            ]
          },
          "execution_count": 20,
          "metadata": {},
          "output_type": "execute_result"
        }
      ],
      "source": [
        "client.create_collection(\n",
        "    collection_name=\"lcel_doc_v1\",\n",
        "    vectors_config=VectorParams(size=embedding_dim, distance=Distance.COSINE),\n",
        ")"
      ]
    },
    {
      "cell_type": "markdown",
      "metadata": {
        "id": "XCqGyuDp-4gQ"
      },
      "source": [
        "Now we can assemble our vector database! Notice that we provide our client, our created collection, and our embedding model!"
      ]
    },
    {
      "cell_type": "code",
      "execution_count": 21,
      "metadata": {
        "id": "pGDWp-xA-26d"
      },
      "outputs": [],
      "source": [
        "vector_store = QdrantVectorStore(\n",
        "    client=client,\n",
        "    collection_name=\"lcel_doc_v1\",\n",
        "    embedding=embedding_model,\n",
        ")"
      ]
    },
    {
      "cell_type": "markdown",
      "metadata": {
        "id": "Z0hX7erW-S1f"
      },
      "source": [
        "Now that we have our vector database set-up"
      ]
    },
    {
      "cell_type": "code",
      "execution_count": 22,
      "metadata": {
        "id": "_-qHPtPh-SYb"
      },
      "outputs": [],
      "source": [
        "_ = vector_store.add_texts(texts=chunks)"
      ]
    },
    {
      "cell_type": "markdown",
      "metadata": {
        "id": "UPJexL1kuw45"
      },
      "source": [
        "### Creating a Retriever\n",
        "\n",
        "Now that we have an idea of how we're getting our most relevant information - let's see how we could create a pipeline that would automatically extract the closest chunk to our query and use it as context for our prompt!\n",
        "\n",
        "This will involve a popular LangChain interace known as `as_retriever`!\n",
        "\n",
        "> NOTE: We can still specify how many documents we wish to retrieve per vector."
      ]
    },
    {
      "cell_type": "code",
      "execution_count": 23,
      "metadata": {
        "id": "tnLpo26pu8-1"
      },
      "outputs": [],
      "source": [
        "retriever = vector_store.as_retriever(search_kwargs={\"k\": 2})"
      ]
    },
    {
      "cell_type": "markdown",
      "metadata": {
        "id": "2Y4CZ4tKBSeA"
      },
      "source": [
        "## Bringing it All Together\n",
        "\n",
        "Now that we have our Retriever, our promt Augmentation, and our Generator - we're ready to create a simple RAG chain using LCEL!\n",
        "\n",
        "This chain does the following things:\n",
        "\n",
        "1. It takes in some `str` and passes it to two different LCEL Runnables:\n",
        "  - `retriever`, which takes the string and calls `retrieve` on it - passing the output (formatted as a list) to the `dict` under the key `context`\n",
        "  - `RunnablePassthrough()` which simply propogates the `str` to the `dict` under the key `query`.\n",
        "2. It chains the `dict` to format the `chat_prompt` which expects both a `query` and `context`\n",
        "3. It chains the resulting message to the LLM, and calls it - returning a full response\n",
        "4. That response is chained to the `StrOutputParser()` which converts the response blob into a `str` containing the content of the response!"
      ]
    },
    {
      "cell_type": "code",
      "execution_count": 24,
      "metadata": {
        "id": "Pi8sgqhsBeV_"
      },
      "outputs": [],
      "source": [
        "from langchain_core.runnables import RunnablePassthrough\n",
        "from langchain_core.output_parsers import StrOutputParser\n",
        "\n",
        "simple_rag  = (\n",
        "    {\"context\": retriever, \"query\": RunnablePassthrough()}\n",
        "    | chat_prompt\n",
        "    | openai_chat_model\n",
        "    | StrOutputParser()\n",
        ")"
      ]
    },
    {
      "cell_type": "code",
      "execution_count": 26,
      "metadata": {
        "colab": {
          "base_uri": "https://localhost:8080/",
          "height": 70
        },
        "id": "XpY2CiSGBiGX",
        "outputId": "810727f7-843a-4c49-867b-9067fdbda4d2"
      },
      "outputs": [
        {
          "data": {
            "text/plain": [
              "'LCEL enhances reliability at scale through features like fallbacks and parallelism. The ability to easily attach fallbacks to any chain allows for graceful error handling, which is essential given the non-determinism of LLMs. Additionally, LCEL supports running components in parallel, which is beneficial for managing potentially long API calls, thus improving efficiency and reliability in scaled applications.'"
            ]
          },
          "execution_count": 26,
          "metadata": {},
          "output_type": "execute_result"
        }
      ],
      "source": [
        "simple_rag.invoke(\"What does LCEL do that makes it more reliable at scale?\")"
      ]
    },
    {
      "cell_type": "markdown",
      "metadata": {
        "id": "cD2URVX3O3XJ"
      },
      "source": [
        "#### ❓ Question #3:\n",
        "\n",
        "What does LCEL do that makes it more reliable at scale?\n",
        "\n",
        "> HINT: Use your newly created `simple_rag` to help you answer this question!\n",
        "\n",
        "##### ✅Answer:\n",
        "\n",
        "LCEL enhances reliability at scale through features like fallbacks and parallelism. The ability to easily attach fallbacks to any chain allows for graceful error handling, which is essential given the non-determinism of LLMs. Additionally, LCEL supports running components in parallel, which is beneficial for managing potentially long API calls, thus improving efficiency and reliability in scaled applications.\n"
      ]
    },
    {
      "cell_type": "markdown",
      "metadata": {
        "id": "QTsujAkpRWpJ"
      },
      "source": [
        "### A Note On Runnables\n",
        "\n",
        "# Understanding LangChain Runnables and LCEL\n",
        "\n",
        "In LangChain, a Runnable is like a LEGO brick in your AI application - it's a standardized component that can be easily connected with other components. The real power of Runnables comes from their ability to be combined in flexible ways using LCEL (LangChain Expression Language).\n",
        "\n",
        "## Key Features of Runnables\n",
        "\n",
        "### 1. Universal Interface\n",
        "Every Runnable in LangChain follows the same pattern:\n",
        "- Takes an input\n",
        "- Performs some operation\n",
        "- Returns an output\n",
        "\n",
        "This consistency means you can treat different components (like models, retrievers, or parsers) in the same way.\n",
        "\n",
        "### 2. Built-in Parallelization\n",
        "Runnables come with methods for handling multiple inputs efficiently:\n",
        "```python\n",
        "# Process inputs in parallel, maintain order\n",
        "results = chain.batch([input1, input2, input3])\n",
        "\n",
        "# Process inputs as they complete\n",
        "for result in chain.batch_as_completed([input1, input2, input3]):\n",
        "    print(result)\n",
        "```\n",
        "\n",
        "### 3. Streaming Support\n",
        "Perfect for responsive applications:\n",
        "```python\n",
        "# Stream outputs as they're generated\n",
        "for chunk in chain.stream({\"query\": \"Tell me a story\"}):\n",
        "    print(chunk, end=\"\", flush=True)\n",
        "```\n",
        "\n",
        "### 4. Easy Composition\n",
        "The `|` operator makes building pipelines intuitive:\n",
        "```python\n",
        "# Create a basic RAG chain\n",
        "rag_chain = retriever | prompt | model | output_parser\n",
        "```\n",
        "\n",
        "## Common Types of Runnables\n",
        "\n",
        "- **Language Models**: Like our `ChatOpenAI` instance\n",
        "- **Prompt Templates**: Format inputs consistently\n",
        "- **Retrievers**: Get relevant context from a vector store\n",
        "- **Output Parsers**: Structure model outputs\n",
        "- **LangGraph Nodes**: Individual components in our graph\n",
        "\n",
        "Think of Runnables as the building blocks of your LLM application. Just like how you can combine LEGO bricks in countless ways, you can mix and match Runnables to create increasingly sophisticated applications!\n",
        "\n"
      ]
    },
    {
      "cell_type": "markdown",
      "metadata": {
        "id": "IIbX3_htQGlS"
      },
      "source": [
        "# 🤝 Breakout Room #2"
      ]
    },
    {
      "cell_type": "markdown",
      "metadata": {
        "id": "kaVlJiilDzwM"
      },
      "source": [
        "## LangGraph Based RAG\n",
        "\n",
        "Now that we have a reasonable grasp of LCEL and the idea of Runnables - let's see how we can use LangGraph to build the same system!"
      ]
    },
    {
      "cell_type": "markdown",
      "metadata": {
        "id": "I77-NKo1EowG"
      },
      "source": [
        "### Primer: What is LangGraph?\n",
        "LangGraph is a tool that leverages LangChain Expression Language to build coordinated multi-actor and stateful applications that includes cyclic behaviour.\n",
        "\n",
        "#### Why Cycles?\n",
        "In essence, we can think of a cycle in our graph as a more robust and customizable loop. It allows us to keep our application agent-forward while still giving the powerful functionality of traditional loops.\n",
        "\n",
        "Due to the inclusion of cycles over loops, we can also compose rather complex flows through our graph in a much more readable and natural fashion. Effectively allowing us to recreate application flowcharts in code in an almost 1-to-1 fashion.\n",
        "\n",
        "#### Why LangGraph?\n",
        "Beyond the agent-forward approach - we can easily compose and combine traditional \"DAG\" (directed acyclic graph) chains with powerful cyclic behaviour due to the tight integration with LCEL. This means it's a natural extension to LangChain's core offerings!\n",
        "\n",
        "> NOTE: We're going to focus on building a simple DAG for today's assignment as an introduction to LangGraph"
      ]
    },
    {
      "cell_type": "code",
      "execution_count": 46,
      "metadata": {
        "id": "VJy-ASfAFRRE"
      },
      "outputs": [],
      "source": [
        "#!pip install -qU langgraph"
      ]
    },
    {
      "cell_type": "markdown",
      "metadata": {
        "id": "kfLCnMXNE_Qc"
      },
      "source": [
        "### Putting the State in Stateful\n",
        "\n",
        "Earlier we used this phrasing:\n",
        "\n",
        "> coordinated multi-actor and stateful applications\n",
        "\n",
        "So what does that \"stateful\" mean?\n",
        "\n",
        "To put it simply - we want to have some kind of object which we can pass around our application that holds information about what the current situation (state) is. Since our system will be constructed of many parts moving in a coordinated fashion - we want to be able to ensure we have some commonly understood idea of that state.\n",
        "\n",
        "LangGraph leverages a `StatefulGraph` which uses an `AgentState` object to pass information between the various nodes of the graph.\n",
        "\n",
        "There are more options than what we'll see below - but this `AgentState` object is one that is stored in a `TypedDict` with the key `messages` and the value is a `Sequence` of `BaseMessages` that will be appended to whenever the state changes.\n",
        "\n",
        "However, in our example here, we're focusing on a simpler `State` object:\n",
        "\n",
        "```python\n",
        "class State(TypedDict):\n",
        "    question: str\n",
        "    context: list[Document]\n",
        "    response: str\n",
        "```\n",
        "\n",
        "Let's think about a simple example to help understand exactly what this means (we'll simplify a great deal to try and clearly communicate what state is doing):\n",
        "\n",
        "1. **We initialize our state object**:\n",
        "   ```python\n",
        "   {\n",
        "       \"question\": \"\",\n",
        "       \"context\": [],\n",
        "       \"response\": \"\"\n",
        "   }\n",
        "   ```\n",
        "\n",
        "2. **Our user submits a query to our application.**  \n",
        "   We store the user's question in `state[\"question\"]`. Now we have:\n",
        "   ```python\n",
        "   {\n",
        "       \"question\": \"How tall is the Eiffel Tower?\",\n",
        "       \"context\": [],\n",
        "       \"response\": \"\"\n",
        "   }\n",
        "   ```\n",
        "\n",
        "3. **We pass our state object to an Agent node** which is able to read the current state. It will use the value of `state[\"question\"]` as input and might retrieve some context documents related to the question. It then generates a response which it stores in `state[\"response\"]`. For example:\n",
        "   ```python\n",
        "   {\n",
        "       \"question\": \"How tall is the Eiffel Tower?\",\n",
        "       \"context\": [Document(page_content=\"...some data...\")],\n",
        "       \"response\": \"The Eiffel Tower is about 324 meters tall...\"\n",
        "   }\n",
        "   ```\n",
        "\n",
        "That's it! The important part is that we have a consistent object (`State`) that's passed around, holding the crucial information as we go from one node to the next. This ensures our application has a single source of truth about what has happened so far and what is happening now.\n",
        "\n"
      ]
    },
    {
      "cell_type": "code",
      "execution_count": 27,
      "metadata": {
        "id": "kxczzsfVFNWT"
      },
      "outputs": [],
      "source": [
        "from langgraph.graph import START, StateGraph\n",
        "from typing_extensions import TypedDict\n",
        "from langchain_core.documents import Document\n",
        "\n",
        "class State(TypedDict):\n",
        "  question: str\n",
        "  context: list[Document]\n",
        "  response: str"
      ]
    },
    {
      "cell_type": "markdown",
      "metadata": {
        "id": "6l6xFY0_HoXG"
      },
      "source": [
        "Now that we have state, and we have tools, and we have an LLM - we can finally start making our graph!\n",
        "\n",
        "Let's take a second to refresh ourselves about what a graph is in this context.\n",
        "\n",
        "Graphs, also called networks in some circles, are a collection of connected objects.\n",
        "\n",
        "The objects in question are typically called nodes, or vertices, and the connections are called edges.\n",
        "\n",
        "Let's look at a simple graph.\n",
        "\n",
        "![image](https://i.imgur.com/2NFLnIc.png)\n",
        "\n",
        "Here, we're using the coloured circles to represent the nodes and the yellow lines to represent the edges. In this case, we're looking at a fully connected graph - where each node is connected by an edge to each other node.\n",
        "\n",
        "If we were to think about nodes in the context of LangGraph - we would think of a function, or an LCEL Runnable.\n",
        "\n",
        "If we were to think about edges in the context of LangGraph - we might think of them as \"paths to take\" or \"where to pass our state object next\".  "
      ]
    },
    {
      "cell_type": "markdown",
      "metadata": {
        "id": "keL9O1drInw1"
      },
      "source": [
        "### Building Nodes\n",
        "\n",
        "We're going to need two nodes:\n",
        "\n",
        "A node for retrieval, and a node for generation.\n",
        "\n",
        "Let's start with our `retrieve` node!\n",
        "\n",
        "Notice how we do not need to update the state object in the node, but can instead return a modification directly to our state."
      ]
    },
    {
      "cell_type": "code",
      "execution_count": 28,
      "metadata": {
        "id": "05qhncktIwK_"
      },
      "outputs": [],
      "source": [
        "def retrieve(state: State) -> State:\n",
        "  retrieved_docs = retriever.invoke(state[\"question\"])\n",
        "  return {\"context\" : retrieved_docs}"
      ]
    },
    {
      "cell_type": "markdown",
      "metadata": {
        "id": "_gZktSLAJL5Z"
      },
      "source": [
        "Next, let's create our `generate` node - which will leverage some LCEL!"
      ]
    },
    {
      "cell_type": "code",
      "execution_count": 29,
      "metadata": {
        "id": "XiL2isC8JS0l"
      },
      "outputs": [],
      "source": [
        "def generate(state: State) -> State:\n",
        "  generation_chain = chat_prompt | openai_chat_model | StrOutputParser()\n",
        "  response = generation_chain.invoke({\"query\" : state[\"question\"], \"context\" : state[\"context\"]})\n",
        "  return {\"response\" : response}"
      ]
    },
    {
      "cell_type": "markdown",
      "metadata": {
        "id": "_ZtriMEcJxeR"
      },
      "source": [
        "Now we can start defining our graph!\n",
        "\n",
        "Think of the graph's state as a blank canvas that we can add nodes and edges to.\n",
        "\n",
        "Every graph starts with two special nodes - START and END - the act as the entry and exit point to the other nodes in the graphs.  \n",
        "\n",
        "All valid graphs must start at the START node and end at the END node."
      ]
    },
    {
      "cell_type": "code",
      "execution_count": 30,
      "metadata": {
        "id": "ia9IWM9AJ4bx"
      },
      "outputs": [],
      "source": [
        "# Start with the blank canvas\n",
        "graph_builder = StateGraph(State)"
      ]
    },
    {
      "cell_type": "markdown",
      "metadata": {
        "id": "8kro8bQEL2Yj"
      },
      "source": [
        "Now we can add a sequence to our \"canvas\" (graph) - this can be done by providing a list of nodes, the will automatically have edges that connect the i-th element to the i+1-th element in the list. The final element will be added to the END node unless otherwise specified."
      ]
    },
    {
      "cell_type": "code",
      "execution_count": 31,
      "metadata": {
        "id": "OSfDMlXUL2kh"
      },
      "outputs": [],
      "source": [
        "graph_builder = graph_builder.add_sequence([retrieve, generate])"
      ]
    },
    {
      "cell_type": "markdown",
      "metadata": {
        "id": "g79NZf5VL4en"
      },
      "source": [
        "Next, let's connect our START node to our `retrieve` node by adding an edge."
      ]
    },
    {
      "cell_type": "code",
      "execution_count": 32,
      "metadata": {
        "id": "w1kTJKGNL4qA"
      },
      "outputs": [
        {
          "data": {
            "text/plain": [
              "<langgraph.graph.state.StateGraph at 0x7f6506e576b0>"
            ]
          },
          "execution_count": 32,
          "metadata": {},
          "output_type": "execute_result"
        }
      ],
      "source": [
        "graph_builder.add_edge(START, \"retrieve\")"
      ]
    },
    {
      "cell_type": "markdown",
      "metadata": {
        "id": "5EiVyt8-L6_5"
      },
      "source": [
        "Finally we can compile our graph! This will do basic verification to ensure that the Runnables have the correct inputs/outputs and can be matched."
      ]
    },
    {
      "cell_type": "code",
      "execution_count": 33,
      "metadata": {
        "id": "TM4My6geL7FW"
      },
      "outputs": [],
      "source": [
        "graph = graph_builder.compile()"
      ]
    },
    {
      "cell_type": "markdown",
      "metadata": {
        "id": "fNvoQcfCP3xI"
      },
      "source": [
        "Finally, we can visualize our graph!"
      ]
    },
    {
      "cell_type": "code",
      "execution_count": 34,
      "metadata": {},
      "outputs": [
        {
          "data": {
            "image/png": "[encoded data removed]",
            "text/plain": [
              "<langgraph.graph.state.CompiledStateGraph object at 0x7f653f63ac30>"
            ]
          },
          "execution_count": 34,
          "metadata": {},
          "output_type": "execute_result"
        }
      ],
      "source": [
        "graph"
      ]
    },
    {
      "cell_type": "markdown",
      "metadata": {
        "id": "sBRCjvvyP8DA"
      },
      "source": [
        "Let's take it for a spin!\n",
        "\n",
        "We invoke our graph like we do any other Runnable in LCEL!\n",
        "\n",
        "> NOTE: That's right, even a compiled graph is a Runnable!"
      ]
    },
    {
      "cell_type": "code",
      "execution_count": 35,
      "metadata": {
        "colab": {
          "base_uri": "https://localhost:8080/",
          "height": 105
        },
        "id": "mSbsRLurKOKd",
        "outputId": "114185f3-4b98-4c66-96cd-65f4e4e3ef1d"
      },
      "outputs": [
        {
          "data": {
            "text/plain": [
              "'LangChain Expression Language (LCEL) is a declarative way to compose chains together efficiently. It provides several benefits, such as:\\n\\n1. **Async, Batch, and Streaming Support**: Any chain constructed using LCEL will have full synchronous, asynchronous, batch, and streaming capabilities. This allows for easy prototyping in environments like Jupyter notebooks and enables exposure of the chain as an asynchronous streaming interface.\\n\\n2. **Fallbacks**: LCEL facilitates the handling of errors gracefully through the use of fallbacks, which is particularly important due to the non-determinism of language models (LLMs).\\n\\n3. **Parallelism**: Since LLM applications may involve lengthy API calls, LCEL enables components that can be executed in parallel to be run automatically, enhancing efficiency.\\n\\nOverall, LCEL simplifies the process of writing and managing complex chains by leveraging these built-in features.'"
            ]
          },
          "execution_count": 35,
          "metadata": {},
          "output_type": "execute_result"
        }
      ],
      "source": [
        "response = graph.invoke({\"question\" : \"How does LCEL work?\"})\n",
        "response[\"response\"]"
      ]
    },
    {
      "cell_type": "code",
      "execution_count": 36,
      "metadata": {
        "colab": {
          "base_uri": "https://localhost:8080/",
          "height": 35
        },
        "id": "a_jEmE_rKwED",
        "outputId": "c5fac807-2a24-4cf9-8cca-105def13e3d8"
      },
      "outputs": [
        {
          "data": {
            "text/plain": [
              "\"I don't know.\""
            ]
          },
          "execution_count": 36,
          "metadata": {},
          "output_type": "execute_result"
        }
      ],
      "source": [
        "response = graph.invoke({\"question\" : \"Who is Batman?\"})\n",
        "response[\"response\"]"
      ]
    },
    {
      "cell_type": "markdown",
      "metadata": {
        "id": "E_LRYXvvRjOp"
      },
      "source": [
        "#### ❓ Question #4:\n",
        "LangGraph's graph-based approach lets us visualize and manage complex flows naturally. How could we extend our current implementation to handle edge cases? For example:\n",
        "- What if the retriever finds no relevant context? \n",
        "\n",
        "✅Answer: I can call an inline function to handle no relevant context found in the retreiver node\n",
        "\n",
        "- What if the response needs fact-checking?\n",
        "\n",
        "✅Answer: We can add a fact-checking node that will run fact checks on the retrieved responses\n",
        "\n",
        "Consider how you would modify the graph to handle these scenarios.\n",
        "\n",
        "✅Answer: I have added code below that can be run to check my ideas - the code also produces an ascii graph to visually see the langraph representation."
      ]
    },
    {
      "cell_type": "markdown",
      "metadata": {},
      "source": [
        "# Code to Handle Missing Context"
      ]
    },
    {
      "cell_type": "code",
      "execution_count": 4,
      "metadata": {},
      "outputs": [
        {
          "name": "stdout",
          "output_type": "stream",
          "text": [
            "\n",
            "=== ASCII Graph Visualization ===\n",
            "                     +-----------+                          \n",
            "                     | __start__ |                          \n",
            "                     +-----------+                          \n",
            "                            *                               \n",
            "                            *                               \n",
            "                            *                               \n",
            "                      +----------+                          \n",
            "                      | retrieve |                          \n",
            "                     .+----------+..                        \n",
            "                  ...               ..                      \n",
            "               ...                    ...                   \n",
            "             ..                          ..                 \n",
            "+-------------------+           +------------------------+  \n",
            "| generate_response |           | handle_missing_context |  \n",
            "+-------------------+           +------------------------+  \n",
            "                  ***               **                      \n",
            "                     ***         ***                        \n",
            "                        **     **                           \n",
            "                      +---------+                           \n",
            "                      | __end__ |                           \n",
            "                      +---------+                           \n",
            "\n",
            "=== Running with a question that should find context ===\n",
            "--- Retrieving context for question: What is LCEL? ---\n",
            "Context found.\n",
            "--- Generating response using context ---\n",
            "Generated response: Based on context about 'LCEL allows building chains.\\nIt supports streaming.', answer to 'What is LCEL?' is...\n",
            "\n",
            "Final State (with context):\n",
            "{'question': 'What is LCEL?', 'context': [Document(metadata={'source': 'doc1'}, page_content='LCEL allows building chains.'), Document(metadata={'source': 'doc2'}, page_content='It supports streaming.')], 'response': \"Based on context about 'LCEL allows building chains.\\\\nIt supports streaming.', answer to 'What is LCEL?' is...\"}\n",
            "\n",
            "\n",
            "=== Running with a question that should NOT find context ===\n",
            "--- Retrieving context for question: Who is Batman? ---\n",
            "No relevant context found.\n",
            "--- Handling missing context ---\n",
            "Generated response: I could not find relevant information to answer your question.\n",
            "\n",
            "Final State (no context):\n",
            "{'question': 'Who is Batman?', 'context': [], 'response': 'I could not find relevant information to answer your question.'}\n"
          ]
        }
      ],
      "source": [
        "# Import necessary libraries\n",
        "from langgraph.graph import StateGraph, END, START\n",
        "from typing_extensions import TypedDict\n",
        "from langchain_core.documents import Document\n",
        "from typing import List, Dict, Any\n",
        "\n",
        "# Define the State class for the graph\n",
        "class State(TypedDict):\n",
        "    question: str\n",
        "    context: List[Document]\n",
        "    response: str\n",
        "\n",
        "# --- Define Node Functions ---\n",
        "def retrieve_node(state: State) -> Dict[str, Any]:\n",
        "    \"\"\"Retrieves documents. Returns an empty list if none are found.\"\"\"\n",
        "    print(f\"--- Retrieving context for question: {state['question']} ---\")\n",
        "    question = state['question']\n",
        "    if \"lcel\" in question.lower():\n",
        "        retrieved_docs = [\n",
        "            Document(page_content=\"LCEL allows building chains.\", metadata={\"source\": \"doc1\"}),\n",
        "            Document(page_content=\"It supports streaming.\", metadata={\"source\": \"doc2\"})\n",
        "        ]\n",
        "        print(\"Context found.\")\n",
        "    else:\n",
        "        retrieved_docs = []\n",
        "        print(\"No relevant context found.\")\n",
        "    return {\"context\": retrieved_docs}\n",
        "\n",
        "def generate_response_node(state: State) -> Dict[str, str]:\n",
        "    \"\"\"Generates a response using the question and context.\"\"\"\n",
        "    print(\"--- Generating response using context ---\")\n",
        "    question = state['question']\n",
        "    context_str = \"\\\\n\".join([doc.page_content for doc in state['context']])\n",
        "    response = f\"Based on context about '{context_str}', answer to '{question}' is...\"\n",
        "    print(f\"Generated response: {response}\")\n",
        "    return {\"response\": response}\n",
        "\n",
        "def handle_missing_context_node(state: State) -> Dict[str, str]:\n",
        "    \"\"\"Generates a response indicating no context was available.\"\"\"\n",
        "    print(\"--- Handling missing context ---\")\n",
        "    response = \"I could not find relevant information to answer your question.\"\n",
        "    print(f\"Generated response: {response}\")\n",
        "    return {\"response\": response}\n",
        "\n",
        "# --- Build the Graph ---\n",
        "builder = StateGraph(State)\n",
        "builder.add_node(\"retrieve\", retrieve_node)\n",
        "builder.add_node(\"generate_response\", generate_response_node)\n",
        "builder.add_node(\"handle_missing_context\", handle_missing_context_node)\n",
        "builder.add_edge(START, \"retrieve\")\n",
        "\n",
        "# Conditional edge based on context list content\n",
        "builder.add_conditional_edges(\n",
        "    \"retrieve\",\n",
        "    lambda state: \"handle_missing_context\" if not state[\"context\"] else \"generate_response\",\n",
        "    {\n",
        "        \"generate_response\": \"generate_response\",\n",
        "        \"handle_missing_context\": \"handle_missing_context\"\n",
        "    }\n",
        ")\n",
        "\n",
        "builder.add_edge(\"generate_response\", END)\n",
        "builder.add_edge(\"handle_missing_context\", END)\n",
        "\n",
        "# --- Compile the Graph ---\n",
        "compiled_graph = builder.compile()\n",
        "\n",
        "# --- Visualize the Compiled Graph (ASCII) ---\n",
        "print(\"\\n=== ASCII Graph Visualization ===\")\n",
        "# Draw and print the ASCII graph structure\n",
        "print(compiled_graph.get_graph().draw_ascii()) # <--- This is the key line\n",
        "\n",
        "# --- Run the Graph (Examples) ---\n",
        "print(\"\\n=== Running with a question that should find context ===\")\n",
        "inputs_with_context = {\"question\": \"What is LCEL?\"}\n",
        "result_with_context = compiled_graph.invoke(inputs_with_context)\n",
        "print(\"\\nFinal State (with context):\")\n",
        "print(result_with_context)\n",
        "\n",
        "print(\"\\n\\n=== Running with a question that should NOT find context ===\")\n",
        "inputs_no_context = {\"question\": \"Who is Batman?\"}\n",
        "result_no_context = compiled_graph.invoke(inputs_no_context)\n",
        "print(\"\\nFinal State (no context):\")\n",
        "print(result_no_context)\n"
      ]
    },
    {
      "cell_type": "markdown",
      "metadata": {},
      "source": [
        "# Code with Fact Checking node added"
      ]
    },
    {
      "cell_type": "code",
      "execution_count": 5,
      "metadata": {},
      "outputs": [
        {
          "name": "stdout",
          "output_type": "stream",
          "text": [
            "\n",
            "=== ASCII Graph Visualization ===\n",
            "                     +-----------+                          \n",
            "                     | __start__ |                          \n",
            "                     +-----------+                          \n",
            "                            *                               \n",
            "                            *                               \n",
            "                            *                               \n",
            "                      +----------+                          \n",
            "                      | retrieve |                          \n",
            "                     .+----------+..                        \n",
            "                  ...               ...                     \n",
            "               ...                     ..                   \n",
            "             ..                          ...                \n",
            "+-------------------+                       ..              \n",
            "| generate_response |                        .              \n",
            "+-------------------+                        .              \n",
            "          *                                  .              \n",
            "          *                                  .              \n",
            "          *                                  .              \n",
            "    +------------+                           .              \n",
            "    | fact_check |                           .              \n",
            "    +------------+                           .              \n",
            "          *                                  .              \n",
            "          *                                  .              \n",
            "          *                                  .              \n",
            "+-------------------+           +------------------------+  \n",
            "| finalize_response |           | handle_missing_context |  \n",
            "+-------------------+           +------------------------+  \n",
            "                  ***               **                      \n",
            "                     ***         ***                        \n",
            "                        **     **                           \n",
            "                      +---------+                           \n",
            "                      | __end__ |                           \n",
            "                      +---------+                           \n",
            "\n",
            "\n",
            "=== Running with a question that should find context (and potentially fail fact-check) ===\n",
            "\n",
            "--- Run 1 ---\n",
            "--- Retrieving context for question: What is LCEL? ---\n",
            "Context found.\n",
            "--- Generating initial response using context ---\n",
            "Generated initial response: Based on context about 'LCEL allows building chains.\\nIt supports streaming.', the answer to 'What is LCEL?' is likely related to building and streaming chains.\n",
            "--- Fact-checking response for question: What is LCEL? ---\n",
            "Fact check: Response may contain information not fully supported by context.\n",
            "--- Finalizing response ---\n",
            "Added disclaimer to the response.\n",
            "\n",
            "Final State (with context):\n",
            "{'question': 'What is LCEL?', 'context': [Document(metadata={'source': 'doc1'}, page_content='LCEL allows building chains.'), Document(metadata={'source': 'doc2'}, page_content='It supports streaming.')], 'response': \"Based on context about 'LCEL allows building chains.\\\\nIt supports streaming.', the answer to 'What is LCEL?' is likely related to building and streaming chains. [Disclaimer: This information could not be fully verified against the provided context.]\", 'verification_status': 'Unverified'}\n",
            "Final Response: Based on context about 'LCEL allows building chains.\\nIt supports streaming.', the answer to 'What is LCEL?' is likely related to building and streaming chains. [Disclaimer: This information could not be fully verified against the provided context.]\n",
            "\n",
            "--- Run 2 ---\n",
            "--- Retrieving context for question: What is LCEL? ---\n",
            "Context found.\n",
            "--- Generating initial response using context ---\n",
            "Generated initial response: Based on context about 'LCEL allows building chains.\\nIt supports streaming.', the answer to 'What is LCEL?' is likely related to building and streaming chains.\n",
            "--- Fact-checking response for question: What is LCEL? ---\n",
            "Fact check: Response appears consistent with context.\n",
            "--- Finalizing response ---\n",
            "Response finalized as is.\n",
            "\n",
            "Final State (with context):\n",
            "{'question': 'What is LCEL?', 'context': [Document(metadata={'source': 'doc1'}, page_content='LCEL allows building chains.'), Document(metadata={'source': 'doc2'}, page_content='It supports streaming.')], 'response': \"Based on context about 'LCEL allows building chains.\\\\nIt supports streaming.', the answer to 'What is LCEL?' is likely related to building and streaming chains.\", 'verification_status': 'Verified'}\n",
            "Final Response: Based on context about 'LCEL allows building chains.\\nIt supports streaming.', the answer to 'What is LCEL?' is likely related to building and streaming chains.\n",
            "\n",
            "\n",
            "=== Running with a question that should NOT find context ===\n",
            "--- Retrieving context for question: Who is Batman? ---\n",
            "No relevant context found.\n",
            "--- Handling missing context ---\n",
            "Generated response: I could not find relevant information to answer your question.\n",
            "\n",
            "Final State (no context):\n",
            "{'question': 'Who is Batman?', 'context': [], 'response': 'I could not find relevant information to answer your question.', 'verification_status': 'N/A - No Context'}\n",
            "Final Response: I could not find relevant information to answer your question.\n"
          ]
        }
      ],
      "source": [
        "# Import necessary libraries\n",
        "from langgraph.graph import StateGraph, END, START\n",
        "from typing_extensions import TypedDict\n",
        "from langchain_core.documents import Document\n",
        "from typing import List, Dict, Any\n",
        "import random # For dummy fact checking\n",
        "# Note: Removed imports for io and PIL as they are only needed for image visualization\n",
        "\n",
        "# Define the State class for the graph\n",
        "# Added 'verification_status' to hold the fact-check result\n",
        "class State(TypedDict):\n",
        "    question: str\n",
        "    context: List[Document] # List to hold retrieved documents\n",
        "    response: str # Holds intermediate and final response\n",
        "    verification_status: str # e.g., \"Verified\", \"Unverified\", \"Needs Review\"\n",
        "\n",
        "# --- Define Node Functions ---\n",
        "\n",
        "def retrieve_node(state: State) -> Dict[str, Any]:\n",
        "    \"\"\"Retrieves documents. Returns an empty list if none are found.\"\"\"\n",
        "    print(f\"--- Retrieving context for question: {state['question']} ---\")\n",
        "    question = state['question']\n",
        "    if \"lcel\" in question.lower():\n",
        "        retrieved_docs = [\n",
        "            Document(page_content=\"LCEL allows building chains.\", metadata={\"source\": \"doc1\"}),\n",
        "            Document(page_content=\"It supports streaming.\", metadata={\"source\": \"doc2\"})\n",
        "        ]\n",
        "        print(\"Context found.\")\n",
        "    else:\n",
        "        retrieved_docs = []\n",
        "        print(\"No relevant context found.\")\n",
        "    # Initialize verification_status\n",
        "    return {\"context\": retrieved_docs, \"verification_status\": \"Not Checked\"}\n",
        "\n",
        "def generate_response_node(state: State) -> Dict[str, str]:\n",
        "    \"\"\"Generates an initial response using the question and context.\"\"\"\n",
        "    print(\"--- Generating initial response using context ---\")\n",
        "    question = state['question']\n",
        "    context_str = \"\\\\n\".join([doc.page_content for doc in state['context']])\n",
        "    # Simulate generation\n",
        "    response = f\"Based on context about '{context_str}', the answer to '{question}' is likely related to building and streaming chains.\"\n",
        "    print(f\"Generated initial response: {response}\")\n",
        "    return {\"response\": response}\n",
        "\n",
        "def handle_missing_context_node(state: State) -> Dict[str, str]:\n",
        "    \"\"\"Generates a response indicating no context was available.\"\"\"\n",
        "    print(\"--- Handling missing context ---\")\n",
        "    response = \"I could not find relevant information to answer your question.\"\n",
        "    print(f\"Generated response: {response}\")\n",
        "    # Set verification status as N/A since no generation happened based on context\n",
        "    return {\"response\": response, \"verification_status\": \"N/A - No Context\"}\n",
        "\n",
        "def fact_check_node(state: State) -> Dict[str, str]:\n",
        "    \"\"\"\n",
        "    Simulates fact-checking the generated response against the context.\n",
        "    \"\"\"\n",
        "    print(f\"--- Fact-checking response for question: {state['question']} ---\")\n",
        "    response_to_check = state['response']\n",
        "    context_content = [doc.page_content for doc in state['context']]\n",
        "\n",
        "    # Dummy check: Randomly pass or fail for demonstration\n",
        "    # In reality, this could involve another LLM call or specific checks.\n",
        "    is_verified = random.choice([True, False])\n",
        "\n",
        "    if is_verified and context_content: # Only verify if context exists\n",
        "        status = \"Verified\"\n",
        "        print(\"Fact check: Response appears consistent with context.\")\n",
        "    elif not context_content:\n",
        "         status = \"N/A - No Context Provided for Check\"\n",
        "         print(\"Fact check: Cannot verify, no context was provided to this node.\")\n",
        "    else:\n",
        "        status = \"Unverified\"\n",
        "        print(\"Fact check: Response may contain information not fully supported by context.\")\n",
        "\n",
        "    return {\"verification_status\": status}\n",
        "\n",
        "def finalize_response_node(state: State) -> Dict[str, str]:\n",
        "    \"\"\"\n",
        "    Finalizes the response based on the verification status. Adds a disclaimer if needed.\n",
        "    \"\"\"\n",
        "    print(\"--- Finalizing response ---\")\n",
        "    status = state['verification_status']\n",
        "    current_response = state['response']\n",
        "\n",
        "    if status == \"Unverified\":\n",
        "        final_response = current_response + \" [Disclaimer: This information could not be fully verified against the provided context.]\"\n",
        "        print(\"Added disclaimer to the response.\")\n",
        "    elif status == \"Verified\" or status.startswith(\"N/A\"):\n",
        "        final_response = current_response # Keep as is\n",
        "        print(\"Response finalized as is.\")\n",
        "    else: # Should not happen in this example, but good practice\n",
        "        final_response = current_response + \" [Note: Verification status unclear.]\"\n",
        "\n",
        "    return {\"response\": final_response}\n",
        "\n",
        "\n",
        "# --- Build the Graph ---\n",
        "builder = StateGraph(State)\n",
        "\n",
        "# Add nodes\n",
        "builder.add_node(\"retrieve\", retrieve_node)\n",
        "builder.add_node(\"generate_response\", generate_response_node)\n",
        "builder.add_node(\"handle_missing_context\", handle_missing_context_node)\n",
        "builder.add_node(\"fact_check\", fact_check_node)\n",
        "builder.add_node(\"finalize_response\", finalize_response_node) # New node\n",
        "\n",
        "# Define edges\n",
        "builder.add_edge(START, \"retrieve\")\n",
        "\n",
        "# Conditional edge after retrieval\n",
        "builder.add_conditional_edges(\n",
        "    \"retrieve\",\n",
        "    lambda state: \"handle_missing_context\" if not state[\"context\"] else \"generate_response\",\n",
        "    {\n",
        "        \"generate_response\": \"generate_response\",\n",
        "        \"handle_missing_context\": \"handle_missing_context\"\n",
        "    }\n",
        ")\n",
        "\n",
        "# Route from generation to fact-checking\n",
        "builder.add_edge(\"generate_response\", \"fact_check\")\n",
        "# Route from fact-checking to finalization\n",
        "builder.add_edge(\"fact_check\", \"finalize_response\")\n",
        "\n",
        "# Define end points\n",
        "builder.add_edge(\"finalize_response\", END) # End after successful generation + check\n",
        "builder.add_edge(\"handle_missing_context\", END) # End if no context was found\n",
        "\n",
        "# --- Compile the Graph ---\n",
        "compiled_graph = builder.compile()\n",
        "\n",
        "# --- Visualize the Compiled Graph (ASCII) ---\n",
        "print(\"\\n=== ASCII Graph Visualization ===\")\n",
        "# Draw and print the ASCII graph structure using the compiled graph object\n",
        "# This method does NOT require graphviz or external libraries\n",
        "print(compiled_graph.get_graph().draw_ascii())\n",
        "\n",
        "\n",
        "# --- Run the Graph (Examples) ---\n",
        "print(\"\\n\\n=== Running with a question that should find context (and potentially fail fact-check) ===\")\n",
        "inputs_with_context = {\"question\": \"What is LCEL?\"}\n",
        "# Run multiple times to see different fact-check outcomes due to random choice\n",
        "for i in range(2):\n",
        "    print(f\"\\n--- Run {i+1} ---\")\n",
        "    result_with_context = compiled_graph.invoke(inputs_with_context)\n",
        "    print(\"\\nFinal State (with context):\")\n",
        "    print(result_with_context)\n",
        "    print(f\"Final Response: {result_with_context.get('response', 'N/A')}\")\n",
        "\n",
        "\n",
        "print(\"\\n\\n=== Running with a question that should NOT find context ===\")\n",
        "inputs_no_context = {\"question\": \"Who is Batman?\"}\n",
        "result_no_context = compiled_graph.invoke(inputs_no_context)\n",
        "print(\"\\nFinal State (no context):\")\n",
        "print(result_no_context)\n",
        "print(f\"Final Response: {result_no_context.get('response', 'N/A')}\")"
      ]
    }
  ],
  "metadata": {
    "accelerator": "GPU",
    "colab": {
      "gpuType": "T4",
      "machine_shape": "hm",
      "provenance": [],
      "toc_visible": true
    },
    "kernelspec": {
      "display_name": ".venv",
      "language": "python",
      "name": "python3"
    },
    "language_info": {
      "codemirror_mode": {
        "name": "ipython",
        "version": 3
      },
      "file_extension": ".py",
      "mimetype": "text/x-python",
      "name": "python",
      "nbconvert_exporter": "python",
      "pygments_lexer": "ipython3",
      "version": "3.12.3"
    }
  },
  "nbformat": 4,
  "nbformat_minor": 0
}
