{
 "cells": [
  {
   "cell_type": "markdown",
   "metadata": {
    "id": "lElF3o5PR6ys"
   },
   "source": [
    "# Your First RAG Application\n",
    "\n",
    "In this notebook, we'll walk you through each of the components that are involved in a simple RAG application.\n",
    "\n",
    "We won't be leveraging any fancy tools, just the OpenAI Python SDK, Numpy, and some classic Python.\n",
    "\n",
    "> NOTE: This was done with Python 3.11.4.\n",
    "\n",
    "> NOTE: There might be [compatibility issues](https://github.com/wandb/wandb/issues/7683) if you're on NVIDIA driver >552.44 As an interim solution - you can rollback your drivers to the 552.44."
   ]
  },
  {
   "cell_type": "markdown",
   "metadata": {
    "id": "5CtcL8P8R6yt"
   },
   "source": [
    "## Table of Contents:\n",
    "\n",
    "- Task 1: Imports and Utilities\n",
    "- Task 2: Documents\n",
    "- Task 3: Embeddings and Vectors\n",
    "- Task 4: Prompts\n",
    "- Task 5: Retrieval Augmented Generation\n",
    "  - \ud83d\udea7 Activity #1: Augment RAG"
   ]
  },
  {
   "cell_type": "markdown",
   "metadata": {
    "id": "1Dz6GYilR6yt"
   },
   "source": [
    "Let's look at a rather complicated looking visual representation of a basic RAG application.\n",
    "\n",
    "<img src=\"https://i.imgur.com/vD8b016.png\" />"
   ]
  },
  {
   "cell_type": "markdown",
   "metadata": {
    "id": "PjmC0KFtR6yt"
   },
   "source": [
    "## Task 1: Imports and Utility\n",
    "\n",
    "We're just doing some imports and enabling `async` to work within the Jupyter environment here, nothing too crazy!"
   ]
  },
  {
   "cell_type": "code",
   "execution_count": 44,
   "metadata": {
    "id": "Z1dyrG4hR6yt"
   },
   "outputs": [],
   "source": [
    "from aimakerspace.text_utils import TextFileLoader, CharacterTextSplitter\n",
    "from aimakerspace.vectordatabase import VectorDatabase\n",
    "import asyncio"
   ]
  },
  {
   "cell_type": "code",
   "execution_count": 46,
   "metadata": {
    "id": "9OrFZRnER6yt"
   },
   "outputs": [],
   "source": [
    "import nest_asyncio\n",
    "nest_asyncio.apply()"
   ]
  },
  {
   "cell_type": "markdown",
   "metadata": {
    "id": "M0jGnpQsR6yu"
   },
   "source": [
    "## Task 2: Documents\n",
    "\n",
    "We'll be concerning ourselves with this part of the flow in the following section:\n",
    "\n",
    "<img src=\"https://i.imgur.com/jTm9gjk.png\" />"
   ]
  },
  {
   "cell_type": "markdown",
   "metadata": {
    "id": "-SFPWvRUR6yu"
   },
   "source": [
    "### Loading Source Documents\n",
    "\n",
    "So, first things first, we need some documents to work with.\n",
    "\n",
    "While we could work directly with the `.txt` files (or whatever file-types you wanted to extend this to) we can instead do some batch processing of those documents at the beginning in order to store them in a more machine compatible format.\n",
    "\n",
    "In this case, we're going to parse our text file into a single document in memory.\n",
    "\n",
    "Let's look at the relevant bits of the `TextFileLoader` class:\n",
    "\n",
    "```python\n",
    "def load_file(self):\n",
    "        with open(self.path, \"r\", encoding=self.encoding) as f:\n",
    "            self.documents.append(f.read())\n",
    "```\n",
    "\n",
    "We're simply loading the document using the built in `open` method, and storing that output in our `self.documents` list.\n",
    "\n",
    "> NOTE: We're using blogs from PMarca (Marc Andreessen) as our sample data. This data is largely irrelevant as we want to focus on the mechanisms of RAG, which includes out data's shape and quality - but not specifically what the contents of the data are. \n"
   ]
  },
  {
   "cell_type": "code",
   "execution_count": 47,
   "metadata": {
    "colab": {
     "base_uri": "https://localhost:8080/"
    },
    "id": "Ia2sUEuGR6yu",
    "outputId": "84937ecc-c35f-4c4a-a4ab-9da72625954c"
   },
   "outputs": [
    {
     "data": {
      "text/plain": [
       "1"
      ]
     },
     "execution_count": 47,
     "metadata": {},
     "output_type": "execute_result"
    }
   ],
   "source": [
    "text_loader = TextFileLoader(\"data/PMarcaBlogs.txt\")\n",
    "documents = text_loader.load_documents()\n",
    "len(documents)"
   ]
  },
  {
   "cell_type": "code",
   "execution_count": 48,
   "metadata": {
    "colab": {
     "base_uri": "https://localhost:8080/"
    },
    "id": "bV-tj5WFR6yu",
    "outputId": "674eb315-1ff3-4597-bcf5-38ece0a812ac"
   },
   "outputs": [
    {
     "name": "stdout",
     "output_type": "stream",
     "text": [
      "\n",
      "The Pmarca Blog Archives\n",
      "(select posts from 2007-2009)\n",
      "Marc Andreessen\n",
      "copyright: Andreessen Horow\n"
     ]
    }
   ],
   "source": [
    "print(documents[0][:100])"
   ]
  },
  {
   "cell_type": "markdown",
   "metadata": {
    "id": "nHlTvCzYR6yu"
   },
   "source": [
    "### Splitting Text Into Chunks\n",
    "\n",
    "As we can see, there is one massive document.\n",
    "\n",
    "We'll want to chunk the document into smaller parts so it's easier to pass the most relevant snippets to the LLM.\n",
    "\n",
    "There is no fixed way to split/chunk documents - and you'll need to rely on some intuition as well as knowing your data *very* well in order to build the most robust system.\n",
    "\n",
    "For this toy example, we'll just split blindly on length.\n",
    "\n",
    ">There's an opportunity to clear up some terminology here, for this course we will be stick to the following:\n",
    ">\n",
    ">- \"source documents\" : The `.txt`, `.pdf`, `.html`, ..., files that make up the files and information we start with in its raw format\n",
    ">- \"document(s)\" : single (or more) text object(s)\n",
    ">- \"corpus\" : the combination of all of our documents"
   ]
  },
  {
   "cell_type": "markdown",
   "metadata": {
    "id": "2G6Voc0jR6yv"
   },
   "source": [
    "As you can imagine (though it's not specifically true in this toy example) the idea of splitting documents is to break them into managable sized chunks that retain the most relevant local context."
   ]
  },
  {
   "cell_type": "code",
   "execution_count": 49,
   "metadata": {
    "colab": {
     "base_uri": "https://localhost:8080/"
    },
    "id": "UMC4tsEmR6yv",
    "outputId": "08689c0b-57cd-4040-942a-8193e997f5cb"
   },
   "outputs": [
    {
     "data": {
      "text/plain": [
       "373"
      ]
     },
     "execution_count": 49,
     "metadata": {},
     "output_type": "execute_result"
    }
   ],
   "source": [
    "text_splitter = CharacterTextSplitter()\n",
    "split_documents = text_splitter.split_texts(documents)\n",
    "len(split_documents)"
   ]
  },
  {
   "cell_type": "markdown",
   "metadata": {
    "id": "W2wKT0WLR6yv"
   },
   "source": [
    "Let's take a look at some of the documents we've managed to split."
   ]
  },
  {
   "cell_type": "code",
   "execution_count": 50,
   "metadata": {
    "colab": {
     "base_uri": "https://localhost:8080/"
    },
    "id": "vcYMwWJoR6yv",
    "outputId": "20d69876-feca-4826-b4be-32915276987a"
   },
   "outputs": [
    {
     "data": {
      "text/plain": [
       "['\\ufeff\\nThe Pmarca Blog Archives\\n(select posts from 2007-2009)\\nMarc Andreessen\\ncopyright: Andreessen Horowitz\\ncover design: Jessica Hagy\\nproduced using: Pressbooks\\nContents\\nTHE PMARCA GUIDE TO STARTUPS\\nPart 1: Why not to do a startup 2\\nPart 2: When the VCs say \"no\" 10\\nPart 3: \"But I don\\'t know any VCs!\" 18\\nPart 4: The only thing that matters 25\\nPart 5: The Moby Dick theory of big companies 33\\nPart 6: How much funding is too little? Too much? 41\\nPart 7: Why a startup\\'s initial business plan doesn\\'t\\nmatter that much\\n49\\nTHE PMARCA GUIDE TO HIRING\\nPart 8: Hiring, managing, promoting, and Dring\\nexecutives\\n54\\nPart 9: How to hire a professional CEO 68\\nHow to hire the best people you\\'ve ever worked\\nwith\\n69\\nTHE PMARCA GUIDE TO BIG COMPANIES\\nPart 1: Turnaround! 82\\nPart 2: Retaining great people 86\\nTHE PMARCA GUIDE TO CAREER, PRODUCTIVITY,\\nAND SOME OTHER THINGS\\nIntroduction 97\\nPart 1: Opportunity 99\\nPart 2: Skills and education 107\\nPart 3: Where to go and why 120\\nThe Pmarca Guide to Personal Productivi']"
      ]
     },
     "execution_count": 50,
     "metadata": {},
     "output_type": "execute_result"
    }
   ],
   "source": [
    "split_documents[0:1]"
   ]
  },
  {
   "cell_type": "markdown",
   "metadata": {
    "id": "HOU-RFP_R6yv"
   },
   "source": [
    "## Task 3: Embeddings and Vectors\n",
    "\n",
    "Next, we have to convert our corpus into a \"machine readable\" format as we explored in the Embedding Primer notebook.\n",
    "\n",
    "Today, we're going to talk about the actual process of creating, and then storing, these embeddings, and how we can leverage that to intelligently add context to our queries."
   ]
  },
  {
   "cell_type": "markdown",
   "metadata": {},
   "source": [
    "### OpenAI API Key\n",
    "\n",
    "In order to access OpenAI's APIs, we'll need to provide our OpenAI API Key!\n",
    "\n",
    "You can work through the folder \"OpenAI API Key Setup\" for more information on this process if you don't already have an API Key!"
   ]
  },
  {
   "cell_type": "code",
   "execution_count": 51,
   "metadata": {},
   "outputs": [],
   "source": [
    "import os\n",
    "import openai\n",
    "from getpass import getpass\n",
    "\n",
    "openai.api_key = getpass(\"OpenAI API Key: \")\n",
    "os.environ[\"OPENAI_API_KEY\"] = openai.api_key"
   ]
  },
  {
   "cell_type": "markdown",
   "metadata": {},
   "source": [
    "### Vector Database\n",
    "\n",
    "Let's set up our vector database to hold all our documents and their embeddings!"
   ]
  },
  {
   "cell_type": "markdown",
   "metadata": {
    "id": "kDQrfAR1R6yv"
   },
   "source": [
    "While this is all baked into 1 call - we can look at some of the code that powers this process to get a better understanding:\n",
    "\n",
    "Let's look at our `VectorDatabase().__init__()`:\n",
    "\n",
    "```python\n",
    "def __init__(self, embedding_model: EmbeddingModel = None):\n",
    "        self.vectors = defaultdict(np.array)\n",
    "        self.embedding_model = embedding_model or EmbeddingModel()\n",
    "```\n",
    "\n",
    "As you can see - our vectors are merely stored as a dictionary of `np.array` objects.\n",
    "\n",
    "Secondly, our `VectorDatabase()` has a default `EmbeddingModel()` which is a wrapper for OpenAI's `text-embedding-3-small` model.\n",
    "\n",
    "> **Quick Info About `text-embedding-3-small`**:\n",
    "> - It has a context window of **8191** tokens\n",
    "> - It returns vectors with dimension **1536**"
   ]
  },
  {
   "cell_type": "markdown",
   "metadata": {
    "id": "L273pRdeR6yv"
   },
   "source": [
    "#### \u2753Question #1:\n",
    "\n",
    "The default embedding dimension of `text-embedding-3-small` is 1536, as noted above. \n",
    "\n",
    "1. Is there any way to modify this dimension?\n",
    " \n",
    " \u2705 Answer:\n",
    " \"The text-embedding-3-small model by default produces a 1536-dimensional embedding vector for any input text\u200b. Originally, OpenAI's embedding models had fixed vector sizes that could not be altered by users via the API. For example, the previous generation model text-embedding-ada-002 always returned a 1536-dimension vector with no option to change this. However, with the introduction of the third-generation embedding models in early 2024, OpenAI added support for user-specified embedding dimensions.\n",
    " The new embedding models were trained in a way that allows embeddings to be truncated without losing their \"concept-representing properties.\" The API accepts a dimensions parameter to achieve this trade-off between vector size and accuracy\u200b. For instance, OpenAI notes that even a text-embedding-3-large vector can be shortened from 3072 down to 256 dimensions and still outperform the older text-embedding-ada-002 model's 1536-dimensional embeddings\u200b.\n",
    " \n",
    " In summary, users cannot increase the embedding size beyond the model's default, but they can reduce it. This change over time (from fixed to flexible dimensions) was introduced with the third-generation embedding models, as documented in OpenAI's update logs.\"\n",
    "\n",
    "2. What technique does OpenAI use to achieve this?\n",
    "\n",
    " \u2705 Answer:\n",
    " The OpenAI embeddings documentation confirms that you can request reduced-dimensional embeddings via the dimensions parameter and implies this works because of a custom training approach. However, it does not provide an explicit explanation of the underlying technique in the guide \u2013 the exact method (e.g. a particular dimensionality reduction technique or architecture change) is not documented in the public guide. All that is stated is that the models were trained in a way that allows truncating the embedding vector without significant loss of information\u200b. Thus, the precise mechanism enabling this feature (often referred to externally as a \u201cMatryoshka\u201d or multi-scale embedding technique) is not described in OpenAI\u2019s guide itself.\n",
    "\n",
    "> NOTE: Check out this [API documentation](https://platform.openai.com/docs/api-reference/embeddings/create) for the answer to question #1, and [this documentation](https://platform.openai.com/docs/guides/embeddings/use-cases) for an answer to question #2!"
   ]
  },
  {
   "cell_type": "markdown",
   "metadata": {
    "id": "w5FZY7K3R6yv"
   },
   "source": [
    "We can call the `async_get_embeddings` method of our `EmbeddingModel()` on a list of `str` and receive a list of `float` back! <<- List of List of Float - One list of float is a vector representation of a chunk of text >>\n",
    "\n",
    "```python\n",
    "async def async_get_embeddings(self, list_of_text: List[str]) -> List[List[float]]:\n",
    "        return await aget_embeddings(\n",
    "            list_of_text=list_of_text, engine=self.embeddings_model_name\n",
    "        )\n",
    "```"
   ]
  },
  {
   "cell_type": "markdown",
   "metadata": {
    "id": "cSct6X0aR6yv"
   },
   "source": [
    "We cast those to `np.array` when we build our `VectorDatabase()`:\n",
    "\n",
    "```python\n",
    "async def abuild_from_list(self, list_of_text: List[str]) -> \"VectorDatabase\":\n",
    "        embeddings = await self.embedding_model.async_get_embeddings(list_of_text)\n",
    "        for text, embedding in zip(list_of_text, embeddings):\n",
    "            self.insert(text, np.array(embedding))\n",
    "        return self\n",
    "```\n",
    "\n",
    "And that's all we need to do!"
   ]
  },
  {
   "cell_type": "code",
   "execution_count": 52,
   "metadata": {
    "id": "O4KoLbVDR6yv"
   },
   "outputs": [],
   "source": [
    "vector_db = VectorDatabase()\n",
    "vector_db = asyncio.run(vector_db.abuild_from_list(split_documents))"
   ]
  },
  {
   "cell_type": "markdown",
   "metadata": {
    "id": "SSZwaGvpR6yv"
   },
   "source": [
    "#### \u2753Question #2:\n",
    "\n",
    "What are the benefits of using an `async` approach to collecting our embeddings?\n",
    "\n",
    "\u2705 Answer: We need not wait for the task to complete in an async call - enables parallel tasks to happen together.\n",
    "\n",
    "\n",
    "> NOTE: Determining the core difference between `async` and `sync` will be useful! If you get stuck - ask ChatGPT!"
   ]
  },
  {
   "cell_type": "markdown",
   "metadata": {
    "id": "nRBdIt-xR6yw"
   },
   "source": [
    "So, to review what we've done so far in natural language:\n",
    "\n",
    "1. We load source documents\n",
    "2. We split those source documents into smaller chunks (documents)\n",
    "3. We send each of those documents to the `text-embedding-3-small` OpenAI API endpoint\n",
    "4. We store each of the text representations with the vector representations as keys/values in a dictionary"
   ]
  },
  {
   "cell_type": "markdown",
   "metadata": {
    "id": "4-vWANZyR6yw"
   },
   "source": [
    "### Semantic Similarity\n",
    "\n",
    "The next step is to be able to query our `VectorDatabase()` with a `str` and have it return to us vectors and text that is most relevant from our corpus.\n",
    "\n",
    "We're going to use the following process to achieve this in our toy example:\n",
    "\n",
    "1. We need to embed our query with the same `EmbeddingModel()` as we used to construct our `VectorDatabase()`\n",
    "2. We loop through every vector in our `VectorDatabase()` and use a distance measure to compare how related they are\n",
    "3. We return a list of the top `k` closest vectors, with their text representations\n",
    "\n",
    "There's some very heavy optimization that can be done at each of these steps - but let's just focus on the basic pattern in this notebook.\n",
    "\n",
    "> We are using [cosine similarity](https://www.engati.com/glossary/cosine-similarity) as a distance metric in this example - but there are many many distance metrics you could use - like [these](https://flavien-vidal.medium.com/similarity-distances-for-natural-language-processing-16f63cd5ba55)\n",
    "\n",
    "> We are using a rather inefficient way of calculating relative distance between the query vector and all other vectors - there are more advanced approaches that are much more efficient, like [ANN](https://towardsdatascience.com/comprehensive-guide-to-approximate-nearest-neighbors-algorithms-8b94f057d6b6)"
   ]
  },
  {
   "cell_type": "code",
   "execution_count": 53,
   "metadata": {
    "colab": {
     "base_uri": "https://localhost:8080/"
    },
    "id": "76d96uavR6yw",
    "outputId": "bbfccc31-20a2-41c7-c14d-46554a43ed2d"
   },
   "outputs": [
    {
     "data": {
      "text/plain": [
       "[(\"being IBM\\nin the 80\u2019s, or Microsoa in the 90\u2019s, or Google today.\\nHow to hire the best people you've ever worked with 73\\nCuriosity\\nCuriosity is a proxy for, do you love what you do?\\nAnyone who loves what they do is inherently intensely curious\\nabout their Xeld, their profession, their craa.\\nThey read about it, study it, talk to other people about it\u2026\\nimmerse themselves in it, continuously.\\nAnd work like hell to stay current in it.\\nNot because they have to.\\nBut because they love to.\\nAnyone who isn\u2019t curious doesn\u2019t love what they do.\\nAnd you should be hiring people who love what they do.\\nAs an example, programmers.\\nSit a programmer candidate for an Internet company down and\\nask them about the ten most interesting things happening in\\nInternet soaware.\\nREST vs SOAP, the new Facebook API, whether Ruby on Rails\\nis scalable, what do you think of Sun\u2019s new Java-based scripting\\nlanguage, Google\u2019s widgets API, Amazon S3, etc.\\nIf the candidate loves their Xeld, they\u2019ll have informed opinions\\non m\",\n",
       "  np.float64(0.8210496109750535)),\n",
       " ('prayer session, hit the StairMaster, study a few hours\\nmore\u2026\\n[N]owhere did I Xnd any real unhappiness with this state of aWairs;\\nnowhere did I Xnd anybody who seriously considered living any\\nother way. These super-accomplished kids aren\u2019t working so hard\\nbecause they are compelled to\u2026 It\u2019s not the stick that drives them\\non, it\u2019s the carrot. Opportunity lures them\u2026 [I]n a rich informationage country like America, promises of enjoyable work abound \u2014 at\\nleast for people as smart and ambitious as these. \u201cI want to be this\\nbusy,\u201d one young woman insisted, aaer she had described a daily\\nschedule that would count as slave-driving if it were imposed on\\nanyone\u2026\\nThat doesn\u2019t mean that these leaders-in-training are money-mad\\n(though they are certainly career-conscious). It means they are\\ngoal-oriented. An activity \u2014 whether it is studying, hitting the\\ntreadmill, drama group, community service, or one of the student\\ngroups they found and join in great numbers \u2014 is rarely an end\\nin itself. It is a ',\n",
       "  np.float64(0.6726210931365907)),\n",
       " ('he last three years? Punt.\\nNow. Liquidate the company \u2014 get whatever cash you can for\\nthe Aeron chairs and the foosball tables and the lava lamps and\\nthe RAID arrays and shut down now, hand the cash back to\\nthe investors, preferably on Xre, and leave town, head down,\\nin shame. All those young programmers and product managers\\ncan go get jobs in retail footwear where they belong.\\nYou big companies \u2014 you eBays, you Yahoos, you Googles, you\\nAmazons? Yes, and you, Microsoa? Think the new new B2B \u2014\\nback to boring. What\u2019s with all these new products? The world is\\nconfusing enough. Shut \u2018em down and let\u2019s go back to the good\\nold days: Windows ME, Mac OS 9, dialup modems, and 640\\nmegabytes ought to be enough for everyone. You\u2019re just screwing us all over with all this new fancy broadband video-enabled\\nphone-call-making wiX web-based lightweight touch-interface\\ngorgeous long-battery-life YimYam \u2014 just look at how you keep\\ndropping the damn prices. I knew I\u2019d be better oW not buying\\nany of it, ev',\n",
       "  np.float64(0.6652203530534886))]"
      ]
     },
     "execution_count": 53,
     "metadata": {},
     "output_type": "execute_result"
    }
   ],
   "source": [
    "vector_db.search_by_text(\"What is the Michael Eisner Memorial Weak Executive Problem?\", k=3)"
   ]
  },
  {
   "cell_type": "markdown",
   "metadata": {
    "id": "TehsfIiKR6yw"
   },
   "source": [
    "## Task 4: Prompts\n",
    "\n",
    "In the following section, we'll be looking at the role of prompts - and how they help us to guide our application in the right direction.\n",
    "\n",
    "In this notebook, we're going to rely on the idea of \"zero-shot in-context learning\".\n",
    "\n",
    "This is a lot of words to say: \"We will ask it to perform our desired task in the prompt, and provide no examples.\""
   ]
  },
  {
   "cell_type": "markdown",
   "metadata": {
    "id": "yXpA0UveR6yw"
   },
   "source": [
    "### XYZRolePrompt\n",
    "\n",
    "Before we do that, let's stop and think a bit about how OpenAI's chat models work.\n",
    "\n",
    "We know they have roles - as is indicated in the following API [documentation](https://platform.openai.com/docs/api-reference/chat/create#chat/create-messages)\n",
    "\n",
    "There are three roles, and they function as follows (taken directly from [OpenAI](https://platform.openai.com/docs/guides/gpt/chat-completions-api)):\n",
    "\n",
    "- `{\"role\" : \"system\"}` : The system message helps set the behavior of the assistant. For example, you can modify the personality of the assistant or provide specific instructions about how it should behave throughout the conversation. However note that the system message is optional and the model\u2019s behavior without a system message is likely to be similar to using a generic message such as \"You are a helpful assistant.\"\n",
    "- `{\"role\" : \"user\"}` : The user messages provide requests or comments for the assistant to respond to.\n",
    "- `{\"role\" : \"assistant\"}` : Assistant messages store previous assistant responses, but can also be written by you to give examples of desired behavior.\n",
    "\n",
    "The main idea is this:\n",
    "\n",
    "1. You start with a system message that outlines how the LLM should respond, what kind of behaviours you can expect from it, and more\n",
    "2. Then, you can provide a few examples in the form of \"assistant\"/\"user\" pairs\n",
    "3. Then, you prompt the model with the true \"user\" message.\n",
    "\n",
    "In this example, we'll be forgoing the 2nd step for simplicities sake."
   ]
  },
  {
   "cell_type": "markdown",
   "metadata": {
    "id": "gdZ2KWKSR6yw"
   },
   "source": [
    "#### Utility Functions\n",
    "\n",
    "You'll notice that we're using some utility functions from the `aimakerspace` module - let's take a peek at these and see what they're doing!"
   ]
  },
  {
   "cell_type": "markdown",
   "metadata": {
    "id": "GFbeJDDsR6yw"
   },
   "source": [
    "##### XYZRolePrompt"
   ]
  },
  {
   "cell_type": "markdown",
   "metadata": {
    "id": "5mojJSE3R6yw"
   },
   "source": [
    "Here we have our `system`, `user`, and `assistant` role prompts.\n",
    "\n",
    "Let's take a peek at what they look like:\n",
    "\n",
    "```python\n",
    "class BasePrompt:\n",
    "    def __init__(self, prompt):\n",
    "        \"\"\"\n",
    "        Initializes the BasePrompt object with a prompt template.\n",
    "\n",
    "        :param prompt: A string that can contain placeholders within curly braces\n",
    "        \"\"\"\n",
    "        self.prompt = prompt\n",
    "        self._pattern = re.compile(r\"\\{([^}]+)\\}\")\n",
    "\n",
    "    def format_prompt(self, **kwargs):\n",
    "        \"\"\"\n",
    "        Formats the prompt string using the keyword arguments provided.\n",
    "\n",
    "        :param kwargs: The values to substitute into the prompt string\n",
    "        :return: The formatted prompt string\n",
    "        \"\"\"\n",
    "        matches = self._pattern.findall(self.prompt)\n",
    "        return self.prompt.format(**{match: kwargs.get(match, \"\") for match in matches})\n",
    "\n",
    "    def get_input_variables(self):\n",
    "        \"\"\"\n",
    "        Gets the list of input variable names from the prompt string.\n",
    "\n",
    "        :return: List of input variable names\n",
    "        \"\"\"\n",
    "        return self._pattern.findall(self.prompt)\n",
    "```\n",
    "\n",
    "Then we have our `RolePrompt` which laser focuses us on the role pattern found in most API endpoints for LLMs.\n",
    "\n",
    "```python\n",
    "class RolePrompt(BasePrompt):\n",
    "    def __init__(self, prompt, role: str):\n",
    "        \"\"\"\n",
    "        Initializes the RolePrompt object with a prompt template and a role.\n",
    "\n",
    "        :param prompt: A string that can contain placeholders within curly braces\n",
    "        :param role: The role for the message ('system', 'user', or 'assistant')\n",
    "        \"\"\"\n",
    "        super().__init__(prompt)\n",
    "        self.role = role\n",
    "\n",
    "    def create_message(self, **kwargs):\n",
    "        \"\"\"\n",
    "        Creates a message dictionary with a role and a formatted message.\n",
    "\n",
    "        :param kwargs: The values to substitute into the prompt string\n",
    "        :return: Dictionary containing the role and the formatted message\n",
    "        \"\"\"\n",
    "        return {\"role\": self.role, \"content\": self.format_prompt(**kwargs)}\n",
    "```\n",
    "\n",
    "We'll look at how the `SystemRolePrompt` is constructed to get a better idea of how that extension works:\n",
    "\n",
    "```python\n",
    "class SystemRolePrompt(RolePrompt):\n",
    "    def __init__(self, prompt: str):\n",
    "        super().__init__(prompt, \"system\")\n",
    "```\n",
    "\n",
    "That pattern is repeated for our `UserRolePrompt` and our `AssistantRolePrompt` as well."
   ]
  },
  {
   "cell_type": "markdown",
   "metadata": {
    "id": "D361R6sMR6yw"
   },
   "source": [
    "##### ChatOpenAI"
   ]
  },
  {
   "cell_type": "markdown",
   "metadata": {
    "id": "HJVQ2Pm8R6yw"
   },
   "source": [
    "Next we have our model, which is converted to a format analagous to libraries like LangChain and LlamaIndex.\n",
    "\n",
    "Let's take a peek at how that is constructed:\n",
    "\n",
    "```python\n",
    "class ChatOpenAI:\n",
    "    def __init__(self, model_name: str = \"gpt-4o-mini\"):\n",
    "        self.model_name = model_name\n",
    "        self.openai_api_key = os.getenv(\"OPENAI_API_KEY\")\n",
    "        if self.openai_api_key is None:\n",
    "            raise ValueError(\"OPENAI_API_KEY is not set\")\n",
    "\n",
    "    def run(self, messages, text_only: bool = True):\n",
    "        if not isinstance(messages, list):\n",
    "            raise ValueError(\"messages must be a list\")\n",
    "\n",
    "        openai.api_key = self.openai_api_key\n",
    "        response = openai.ChatCompletion.create(\n",
    "            model=self.model_name, messages=messages\n",
    "        )\n",
    "\n",
    "        if text_only:\n",
    "            return response.choices[0].message.content\n",
    "\n",
    "        return response\n",
    "```"
   ]
  },
  {
   "cell_type": "markdown",
   "metadata": {
    "id": "qCU7FfhIR6yw"
   },
   "source": [
    "#### \u2753 Question #3:\n",
    "\n",
    "When calling the OpenAI API - are there any ways we can achieve more reproducible outputs?\n",
    "\n",
    "\u2705 Answer:\n",
    "\n",
    "Based on the OpenAI documentation, there are several ways to achieve more reproducible outputs when calling the OpenAI API:\n",
    "\n",
    "*Set a seed parameter:*\n",
    "Using the seed parameter allows you to get reproducible outputs for the same input\n",
    "However this is currently only supported in the latest models (e.g., GPT-4 Turbo Preview and GPT-3.5 Turbo)\n",
    "\n",
    "*Control temperature and other sampling parameters:*\n",
    "Set temperature = 0 for more deterministic outputs\n",
    "\n",
    "Lower values of temperature (closer to 0) make the output more focused and deterministic\n",
    "\n",
    "Higher values (closer to 1) make the output more random/creative\n",
    "\n",
    "You can also adjust top_p (nucleus sampling) for additional control\n",
    "\n",
    "*Use system messages consistently:*\n",
    "Providing the same system message helps maintain consistency in responses\n",
    "System messages set the behavior and context for the model\n",
    "\n",
    "```Python\n",
    "response = client.chat.completions.create(\n",
    "    model=\"gpt-4-turbo-preview\",\n",
    "    seed=123,  # Set fixed seed for reproducibility\n",
    "    temperature=0,  # Most deterministic setting\n",
    "    messages=[\n",
    "        {\"role\": \"system\", \"content\": \"You are a helpful assistant that provides concise answers.\"},\n",
    "        {\"role\": \"user\", \"content\": \"What is RAG?\"}\n",
    "    ]\n",
    ")\n",
    "```\n",
    "> NOTE: Check out [this section](https://platform.openai.com/docs/guides/text-generation/) of the OpenAI documentation for the answer!"
   ]
  },
  {
   "cell_type": "markdown",
   "metadata": {
    "id": "c5wcjMLCR6yw"
   },
   "source": [
    "### Creating and Prompting OpenAI's `gpt-4o-mini`!\n",
    "\n",
    "Let's tie all these together and use it to prompt `gpt-4o-mini`!"
   ]
  },
  {
   "cell_type": "code",
   "execution_count": 54,
   "metadata": {
    "id": "WIfpIot7R6yw"
   },
   "outputs": [],
   "source": [
    "from aimakerspace.openai_utils.prompts import (\n",
    "    UserRolePrompt,\n",
    "    SystemRolePrompt,\n",
    "    AssistantRolePrompt,\n",
    ")\n",
    "\n",
    "from aimakerspace.openai_utils.chatmodel import ChatOpenAI\n",
    "\n",
    "chat_openai = ChatOpenAI()\n",
    "user_prompt_template = \"{content}\"\n",
    "user_role_prompt = UserRolePrompt(user_prompt_template)\n",
    "system_prompt_template = (\n",
    "    \"You are an expert in {expertise}, you always answer in a kind way.\"\n",
    ")\n",
    "system_role_prompt = SystemRolePrompt(system_prompt_template)\n",
    "\n",
    "messages = [\n",
    "    system_role_prompt.create_message(expertise=\"Python\"),\n",
    "    user_role_prompt.create_message(\n",
    "        content=\"What is the best way to write a loop?\"\n",
    "    ),\n",
    "]\n",
    "\n",
    "response = chat_openai.run(messages)"
   ]
  },
  {
   "cell_type": "code",
   "execution_count": 55,
   "metadata": {
    "colab": {
     "base_uri": "https://localhost:8080/"
    },
    "id": "dHo7lssNR6yw",
    "outputId": "1d3823fa-bb6b-45f6-ddba-b41686388324"
   },
   "outputs": [
    {
     "name": "stdout",
     "output_type": "stream",
     "text": [
      "The best way to write a loop in Python depends on what you're trying to achieve. Here are a few common ways to use loops effectively:\n",
      "\n",
      "1. **For Loop**: This is ideal for iterating over a sequence (like a list, tuple, or a string).\n",
      "\n",
      "   ```python\n",
      "   items = ['apple', 'banana', 'cherry']\n",
      "   for item in items:\n",
      "       print(item)\n",
      "   ```\n",
      "\n",
      "2. **While Loop**: Use this when you want to repeat an action until a condition changes.\n",
      "\n",
      "   ```python\n",
      "   count = 0\n",
      "   while count < 5:\n",
      "       print(count)\n",
      "       count += 1\n",
      "   ```\n",
      "\n",
      "3. **List Comprehensions**: This is a concise way to create lists. It is not a traditional loop but can achieve the same results more succinctly.\n",
      "\n",
      "   ```python\n",
      "   squares = [x**2 for x in range(10)]\n",
      "   print(squares)\n",
      "   ```\n",
      "\n",
      "4. **Using Enumerate**: If you need both the index and the item from a sequence, use `enumerate()`.\n",
      "\n",
      "   ```python\n",
      "   fruits = ['apple', 'banana', 'cherry']\n",
      "   for index, fruit in enumerate(fruits):\n",
      "       print(f\"Index {index}: {fruit}\")\n",
      "   ```\n",
      "\n",
      "5. **Looping with Conditions**: You can also include conditions within your loops to perform actions based on specific criteria.\n",
      "\n",
      "   ```python\n",
      "   for number in range(10):\n",
      "       if number % 2 == 0:\n",
      "           print(f\"{number} is even\")\n",
      "       else:\n",
      "           print(f\"{number} is odd\")\n",
      "   ```\n",
      "\n",
      "Remember to use `break` and `continue` carefully to manage loop flow \u2014 `break` exits the loop immediately, while `continue` skips to the next iteration.\n",
      "\n",
      "Ultimately, the best approach depends on your particular use case and what makes your code the most readable and efficient. If you have a specific scenario in mind, feel free to share, and I\u2019d be happy to provide tailored advice!\n"
     ]
    }
   ],
   "source": [
    "print(response)"
   ]
  },
  {
   "cell_type": "markdown",
   "metadata": {
    "id": "r2nxxhB2R6yy"
   },
   "source": [
    "## Task 5: Retrieval Augmented Generation\n",
    "\n",
    "Now we can create a RAG prompt - which will help our system behave in a way that makes sense!\n",
    "\n",
    "There is much you could do here, many tweaks and improvements to be made!"
   ]
  },
  {
   "cell_type": "code",
   "execution_count": 56,
   "metadata": {
    "id": "D1hamzGaR6yy"
   },
   "outputs": [],
   "source": [
    "RAG_PROMPT_TEMPLATE = \"\"\" \\\n",
    "Use the provided context to answer the user's query.\n",
    "\n",
    "You may not answer the user's query unless there is specific context in the following text.\n",
    "\n",
    "If you do not know the answer, or cannot answer, please respond with \"I don't know\".\n",
    "\"\"\"\n",
    "\n",
    "rag_prompt = SystemRolePrompt(RAG_PROMPT_TEMPLATE)\n",
    "\n",
    "USER_PROMPT_TEMPLATE = \"\"\" \\\n",
    "Context:\n",
    "{context}\n",
    "\n",
    "User Query:\n",
    "{user_query}\n",
    "\"\"\"\n",
    "\n",
    "\n",
    "user_prompt = UserRolePrompt(USER_PROMPT_TEMPLATE)\n",
    "\n",
    "class RetrievalAugmentedQAPipeline:\n",
    "    def __init__(self, llm: ChatOpenAI(), vector_db_retriever: VectorDatabase) -> None:\n",
    "        self.llm = llm\n",
    "        self.vector_db_retriever = vector_db_retriever\n",
    "\n",
    "    def run_pipeline(self, user_query: str) -> str:\n",
    "        context_list = self.vector_db_retriever.search_by_text(user_query, k=4)\n",
    "\n",
    "        context_prompt = \"\"\n",
    "        for context in context_list:\n",
    "            context_prompt += context[0] + \"\\n\"\n",
    "\n",
    "        formatted_system_prompt = rag_prompt.create_message()\n",
    "\n",
    "        formatted_user_prompt = user_prompt.create_message(user_query=user_query, context=context_prompt)\n",
    "\n",
    "        return {\"response\" : self.llm.run([formatted_system_prompt, formatted_user_prompt]), \"context\" : context_list}"
   ]
  },
  {
   "cell_type": "markdown",
   "metadata": {
    "id": "zZIJI19uR6yz"
   },
   "source": [
    "#### \u2753 Question #4:\n",
    "\n",
    "What prompting strategies could you use to make the LLM have a more thoughtful, detailed response?\n",
    "\n",
    "What is that strategy called?\n",
    "\n",
    "\u2705 Answer:\n",
    "\n",
    "To encourage a more thoughtful and detailed response from an LLM like GPT-3.5-turbo, you can use the following prompting strategies:\n",
    "\n",
    "*Provide Context:*\n",
    "\n",
    "Start with a detailed context or background information to set the stage for the response.\n",
    "This helps the model understand the topic better and generate more relevant details.\n",
    "\n",
    "*Ask Open-Ended Questions:*\n",
    "\n",
    "Use questions that require explanation or elaboration rather than simple yes/no answers.\n",
    "For example, instead of asking \"Is RAG useful?\", ask \"How does RAG improve information retrieval?\"\n",
    "\n",
    "*Use System Messages:*\n",
    "\n",
    "Set a system message that instructs the model to provide detailed explanations.\n",
    "Example: \"You are an expert in data science. Provide a comprehensive explanation.\"\n",
    "\n",
    "*Chain of Thought Prompting:*\n",
    "\n",
    "Encourage the model to think step-by-step by asking it to explain its reasoning process.\n",
    "Example: \"Explain the steps involved in RAG and why each step is important.\"\n",
    "\n",
    "*Specify the Format:*\n",
    "\n",
    "Request a specific format, such as bullet points or numbered lists, to organize the response.\n",
    "Example: \"List the benefits of RAG in bullet points.\"\n",
    "\n",
    "*Use Examples:*\n",
    "\n",
    "Provide examples in the prompt to guide the model on the level of detail expected.\n",
    "Example: \"Explain RAG with examples of its application in real-world scenarios.\"\n",
    "\n",
    "By using these strategies, you can guide the LLM to produce more comprehensive and thoughtful responses.\n",
    "\n",
    "\n",
    "> NOTE: You can look through [\"Accessing GPT-3.5-turbo Like a Developer\"](https://colab.research.google.com/drive/1mOzbgf4a2SP5qQj33ZxTz2a01-5eXqk2?usp=sharing) for an answer to this question if you get stuck!"
   ]
  },
  {
   "cell_type": "code",
   "execution_count": 57,
   "metadata": {
    "id": "kqbE9fZ6R6yz"
   },
   "outputs": [],
   "source": [
    "retrieval_augmented_qa_pipeline = RetrievalAugmentedQAPipeline(\n",
    "    vector_db_retriever=vector_db,\n",
    "    llm=chat_openai\n",
    ")"
   ]
  },
  {
   "cell_type": "code",
   "execution_count": 59,
   "metadata": {
    "colab": {
     "base_uri": "https://localhost:8080/"
    },
    "id": "jAGhaCGOR6yz",
    "outputId": "e4fb3a1b-d2bc-4e18-ec31-dc0adf767163"
   },
   "outputs": [
    {
     "data": {
      "text/plain": [
       "{'response': \"I don't know.\",\n",
       " 'context': [(\"being IBM\\nin the 80\u2019s, or Microsoa in the 90\u2019s, or Google today.\\nHow to hire the best people you've ever worked with 73\\nCuriosity\\nCuriosity is a proxy for, do you love what you do?\\nAnyone who loves what they do is inherently intensely curious\\nabout their Xeld, their profession, their craa.\\nThey read about it, study it, talk to other people about it\u2026\\nimmerse themselves in it, continuously.\\nAnd work like hell to stay current in it.\\nNot because they have to.\\nBut because they love to.\\nAnyone who isn\u2019t curious doesn\u2019t love what they do.\\nAnd you should be hiring people who love what they do.\\nAs an example, programmers.\\nSit a programmer candidate for an Internet company down and\\nask them about the ten most interesting things happening in\\nInternet soaware.\\nREST vs SOAP, the new Facebook API, whether Ruby on Rails\\nis scalable, what do you think of Sun\u2019s new Java-based scripting\\nlanguage, Google\u2019s widgets API, Amazon S3, etc.\\nIf the candidate loves their Xeld, they\u2019ll have informed opinions\\non m\",\n",
       "   np.float64(0.7658028995059456)),\n",
       "  ('prayer session, hit the StairMaster, study a few hours\\nmore\u2026\\n[N]owhere did I Xnd any real unhappiness with this state of aWairs;\\nnowhere did I Xnd anybody who seriously considered living any\\nother way. These super-accomplished kids aren\u2019t working so hard\\nbecause they are compelled to\u2026 It\u2019s not the stick that drives them\\non, it\u2019s the carrot. Opportunity lures them\u2026 [I]n a rich informationage country like America, promises of enjoyable work abound \u2014 at\\nleast for people as smart and ambitious as these. \u201cI want to be this\\nbusy,\u201d one young woman insisted, aaer she had described a daily\\nschedule that would count as slave-driving if it were imposed on\\nanyone\u2026\\nThat doesn\u2019t mean that these leaders-in-training are money-mad\\n(though they are certainly career-conscious). It means they are\\ngoal-oriented. An activity \u2014 whether it is studying, hitting the\\ntreadmill, drama group, community service, or one of the student\\ngroups they found and join in great numbers \u2014 is rarely an end\\nin itself. It is a ',\n",
       "   np.float64(0.6476263901629092)),\n",
       "  ('he last three years? Punt.\\nNow. Liquidate the company \u2014 get whatever cash you can for\\nthe Aeron chairs and the foosball tables and the lava lamps and\\nthe RAID arrays and shut down now, hand the cash back to\\nthe investors, preferably on Xre, and leave town, head down,\\nin shame. All those young programmers and product managers\\ncan go get jobs in retail footwear where they belong.\\nYou big companies \u2014 you eBays, you Yahoos, you Googles, you\\nAmazons? Yes, and you, Microsoa? Think the new new B2B \u2014\\nback to boring. What\u2019s with all these new products? The world is\\nconfusing enough. Shut \u2018em down and let\u2019s go back to the good\\nold days: Windows ME, Mac OS 9, dialup modems, and 640\\nmegabytes ought to be enough for everyone. You\u2019re just screwing us all over with all this new fancy broadband video-enabled\\nphone-call-making wiX web-based lightweight touch-interface\\ngorgeous long-battery-life YimYam \u2014 just look at how you keep\\ndropping the damn prices. I knew I\u2019d be better oW not buying\\nany of it, ev',\n",
       "   np.float64(0.6434247323433389)),\n",
       "  ('or partner last time,\\nnow I\u2019ll be the senior partner\u201d, or \u201cI got Xred from my last\\ncompany, I\u2019ll show those f****** VCs\u201d, or something like that.\\n\u2022 Desire to continue working and being productive \u2014 \u201cI\u2019m 26\\nor 30 or 34, I have a lot of energy, I have to keep moving, and\\nI\u2019m certainly not going to go to work for some boring big\\ncompany or be another hack VC\u2026 obviously I need to start\\nanother company\u201d.\\n\u2022 In love with the technology or a new idea \u2014 there\u2019s more of\\nthis than cynical people think.\\n\u2022 A feeling that we\u2019re in a unique time and place where it\u2019s\\npossible for us to start, build, and be successful with multiple\\ncompanies \u2014 it\u2019d be a shame to walk away from the\\nopportunity to continue to be a part of such a magical time\\nand place. This is a big motivator for me, by the way.\\nGrowing up, I would have never dreamed that an industry\\nlike this would exist or that I would get to be a part of it. I\\npinch myself every day.\\n\u2022 Money, but not just \u201cI can buy a fancier cashmere car cover\u201d\\nkind ',\n",
       "   np.float64(0.5877900697499698))]}"
      ]
     },
     "execution_count": 59,
     "metadata": {},
     "output_type": "execute_result"
    }
   ],
   "source": [
    "retrieval_augmented_qa_pipeline.run_pipeline(\"What is the 'Michael Eisner Memorial Weak Executive Problem'?\")"
   ]
  },
  {
   "cell_type": "markdown",
   "metadata": {},
   "source": [
    "### \ud83c\udfd7\ufe0f Activity #1:\n",
    "\n",
    "Enhance your RAG application in some way! \n",
    "\n",
    "Suggestions are: \n",
    "\n",
    "- Allow it to work with PDF files\n",
    "- Implement a new distance metric\n",
    "- Add metadata support to the vector database\n",
    "\n",
    "While these are suggestions, you should feel free to make whatever augmentations you desire! \n",
    "\n",
    "> NOTE: These additions might require you to work within the `aimakerspace` library - that's expected!"
   ]
  },
  {
   "cell_type": "code",
   "execution_count": 7,
   "metadata": {},
   "outputs": [
    {
     "ename": "RuntimeError",
     "evalue": "asyncio.run() cannot be called from a running event loop",
     "output_type": "error",
     "traceback": [
      "\u001b[0;31m---------------------------------------------------------------------------\u001b[0m",
      "\u001b[0;31mRuntimeError\u001b[0m                              Traceback (most recent call last)",
      "Cell \u001b[0;32mIn[7], line 27\u001b[0m\n\u001b[1;32m     24\u001b[0m     \u001b[38;5;28;01mreturn\u001b[39;00m vector_db\n\u001b[1;32m     26\u001b[0m \u001b[38;5;66;03m# Run the async function\u001b[39;00m\n\u001b[0;32m---> 27\u001b[0m vector_db \u001b[38;5;241m=\u001b[39m \u001b[43masyncio\u001b[49m\u001b[38;5;241;43m.\u001b[39;49m\u001b[43mrun\u001b[49m\u001b[43m(\u001b[49m\u001b[43mbuild_with_metadata\u001b[49m\u001b[43m(\u001b[49m\u001b[43m)\u001b[49m\u001b[43m)\u001b[49m\n\u001b[1;32m     29\u001b[0m \u001b[38;5;66;03m# Create and use the pipeline\u001b[39;00m\n\u001b[1;32m     30\u001b[0m pipeline \u001b[38;5;241m=\u001b[39m RetrievalAugmentedQAPipeline(llm\u001b[38;5;241m=\u001b[39mchat_openai, vector_db_retriever\u001b[38;5;241m=\u001b[39mvector_db)\n",
      "File \u001b[0;32m~/anaconda3/lib/python3.11/asyncio/runners.py:186\u001b[0m, in \u001b[0;36mrun\u001b[0;34m(main, debug)\u001b[0m\n\u001b[1;32m    161\u001b[0m \u001b[38;5;250m\u001b[39m\u001b[38;5;124;03m\"\"\"Execute the coroutine and return the result.\u001b[39;00m\n\u001b[1;32m    162\u001b[0m \n\u001b[1;32m    163\u001b[0m \u001b[38;5;124;03mThis function runs the passed coroutine, taking care of\u001b[39;00m\n\u001b[0;32m   (...)\u001b[0m\n\u001b[1;32m    182\u001b[0m \u001b[38;5;124;03m    asyncio.run(main())\u001b[39;00m\n\u001b[1;32m    183\u001b[0m \u001b[38;5;124;03m\"\"\"\u001b[39;00m\n\u001b[1;32m    184\u001b[0m \u001b[38;5;28;01mif\u001b[39;00m events\u001b[38;5;241m.\u001b[39m_get_running_loop() \u001b[38;5;129;01mis\u001b[39;00m \u001b[38;5;129;01mnot\u001b[39;00m \u001b[38;5;28;01mNone\u001b[39;00m:\n\u001b[1;32m    185\u001b[0m     \u001b[38;5;66;03m# fail fast with short traceback\u001b[39;00m\n\u001b[0;32m--> 186\u001b[0m     \u001b[38;5;28;01mraise\u001b[39;00m \u001b[38;5;167;01mRuntimeError\u001b[39;00m(\n\u001b[1;32m    187\u001b[0m         \u001b[38;5;124m\"\u001b[39m\u001b[38;5;124masyncio.run() cannot be called from a running event loop\u001b[39m\u001b[38;5;124m\"\u001b[39m)\n\u001b[1;32m    189\u001b[0m \u001b[38;5;28;01mwith\u001b[39;00m Runner(debug\u001b[38;5;241m=\u001b[39mdebug) \u001b[38;5;28;01mas\u001b[39;00m runner:\n\u001b[1;32m    190\u001b[0m     \u001b[38;5;28;01mreturn\u001b[39;00m runner\u001b[38;5;241m.\u001b[39mrun(main)\n",
      "\u001b[0;31mRuntimeError\u001b[0m: asyncio.run() cannot be called from a running event loop"
     ]
    }
   ],
   "source": [
    "### YOUR CODE HERE\n",
    "# Import necessary modules\n",
    "from aimakerspace.vectordatabase import VectorDatabase\n",
    "from aimakerspace.text_utils import TextFileLoader, CharacterTextSplitter\n",
    "from aimakerspace.openai_utils.embedding import EmbeddingModel\n",
    "import numpy as np\n",
    "import asyncio\n",
    "\n",
    "# Example usage\n",
    "vector_db = VectorDatabase()\n",
    "\n",
    "# Add metadata when building the database\n",
    "metadata = {\n",
    "    \"source\": \"PMarcaBlogs.txt\",\n",
    "    \"author\": \"Marc Andreessen\",\n",
    "    \"date\": \"2007-2009\"\n",
    "}\n",
    "\n",
    "# Generate embeddings for documents and add metadata\n",
    "async def build_with_metadata():\n",
    "    embeddings = await vector_db.embedding_model.async_get_embeddings(split_documents)\n",
    "    for text, embedding in zip(split_documents, embeddings):\n",
    "        vector_db.insert(text, np.array(embedding), metadata=metadata)\n",
    "    return vector_db\n",
    "\n",
    "# Run the async function\n",
    "vector_db = asyncio.run(build_with_metadata())\n",
    "\n",
    "# Create and use the pipeline\n",
    "pipeline = RetrievalAugmentedQAPipeline(llm=chat_openai, vector_db_retriever=vector_db)\n",
    "result = pipeline.run_pipeline(\"What is the Michael Eisner Memorial Weak Executive Problem?\")\n",
    "\n",
    "# Access the enhanced results\n",
    "print(\"Response:\", result[\"response\"])\n",
    "print(\"\\nMetadata for sources:\")\n",
    "for item in result[\"metadata\"]:\n",
    "    print(f\"\\nSource: {item['metadata'].get('source')}\")\n",
    "    print(f\"Author: {item['metadata'].get('author')}\")\n",
    "    print(f\"Date: {item['metadata'].get('date')}\")\n",
    "    print(f\"Relevance Score: {item['similarity_score']:.4f}\")"
   ]
  },
  {
   "cell_type": "code",
   "execution_count": null,
   "metadata": {},
   "outputs": [],
   "source": []
  }
 ],
 "metadata": {
  "colab": {
   "provenance": []
  },
  "kernelspec": {
   "display_name": ".venv",
   "language": "python",
   "name": "python3"
  },
  "language_info": {
   "codemirror_mode": {
    "name": "ipython",
    "version": 3
   },
   "file_extension": ".py",
   "mimetype": "text/x-python",
   "name": "python",
   "nbconvert_exporter": "python",
   "pygments_lexer": "ipython3",
   "version": "3.11.4"
  },
  "orig_nbformat": 4
 },
 "nbformat": 4,
 "nbformat_minor": 0
}